{
 "cells": [
  {
   "cell_type": "markdown",
   "metadata": {},
   "source": [
    "# Imports"
   ]
  },
  {
   "cell_type": "code",
   "execution_count": 22,
   "metadata": {},
   "outputs": [],
   "source": [
    "import pandas as pd\n",
    "import numpy as np\n",
    "import tensorflow as tf\n",
    "from models import *\n",
    "\n",
    "from sklearn.metrics import accuracy_score"
   ]
  },
  {
   "cell_type": "markdown",
   "metadata": {},
   "source": [
    "# Load Datasets"
   ]
  },
  {
   "cell_type": "markdown",
   "metadata": {},
   "source": [
    "loading them in pandas"
   ]
  },
  {
   "cell_type": "code",
   "execution_count": 5,
   "metadata": {},
   "outputs": [],
   "source": [
    "PATH = 'datasets/'\n",
    "train_df = pd.read_csv(PATH+'train_dataset.csv').drop(columns=['Date'])\n",
    "valid_df = pd.read_csv(PATH+'valid_dataset.csv').drop(columns=['Date'])\n",
    "test_df = pd.read_csv(PATH+'test_dataset.csv').drop(columns=['Date'])"
   ]
  },
  {
   "cell_type": "markdown",
   "metadata": {},
   "source": [
    "turning datasets into np.array"
   ]
  },
  {
   "cell_type": "code",
   "execution_count": 18,
   "metadata": {},
   "outputs": [],
   "source": [
    "train = np.array(train_df)\n",
    "valid = np.array(valid_df)\n",
    "test = np.array(test_df)\n",
    "\n",
    "X_train, y_train = train[:, :-1], train[:, -1] \n",
    "X_valid, y_valid = valid[:, :-1], valid[:, -1] \n",
    "X_test, y_test = test[:, :-1], test[:, -1]\n",
    "\n",
    "X_train = np.reshape(X_train, (X_train.shape[0], 1, X_train.shape[1]))\n",
    "X_valid = np.reshape(X_valid, (X_valid.shape[0], 1, X_valid.shape[1]))\n",
    "X_test = np.reshape(X_test, (X_test.shape[0], 1, X_test.shape[1]))"
   ]
  },
  {
   "cell_type": "code",
   "execution_count": 25,
   "metadata": {},
   "outputs": [
    {
     "name": "stdout",
     "output_type": "stream",
     "text": [
      "Epoch 1/100\n",
      "31/31 [==============================] - 7s 46ms/step - loss: 0.6648 - val_loss: 0.6820\n",
      "Epoch 2/100\n",
      "31/31 [==============================] - 0s 6ms/step - loss: 0.6639 - val_loss: 0.6819\n",
      "Epoch 3/100\n",
      "31/31 [==============================] - 0s 6ms/step - loss: 0.6635 - val_loss: 0.6817\n",
      "Epoch 4/100\n",
      "31/31 [==============================] - 0s 6ms/step - loss: 0.6629 - val_loss: 0.6815\n",
      "Epoch 5/100\n",
      "31/31 [==============================] - 0s 6ms/step - loss: 0.6624 - val_loss: 0.6813\n",
      "Epoch 6/100\n",
      "31/31 [==============================] - 0s 6ms/step - loss: 0.6619 - val_loss: 0.6811\n",
      "Epoch 7/100\n",
      "31/31 [==============================] - 0s 6ms/step - loss: 0.6614 - val_loss: 0.6809\n",
      "Epoch 8/100\n",
      "31/31 [==============================] - 0s 6ms/step - loss: 0.6609 - val_loss: 0.6807\n",
      "Epoch 9/100\n",
      "31/31 [==============================] - 0s 6ms/step - loss: 0.6603 - val_loss: 0.6805\n",
      "Epoch 10/100\n",
      "31/31 [==============================] - 0s 6ms/step - loss: 0.6598 - val_loss: 0.6802\n",
      "Epoch 11/100\n",
      "31/31 [==============================] - 0s 6ms/step - loss: 0.6593 - val_loss: 0.6800\n",
      "Epoch 12/100\n",
      "31/31 [==============================] - 0s 6ms/step - loss: 0.6588 - val_loss: 0.6798\n",
      "Epoch 13/100\n",
      "31/31 [==============================] - 0s 6ms/step - loss: 0.6582 - val_loss: 0.6796\n",
      "Epoch 14/100\n",
      "31/31 [==============================] - 0s 7ms/step - loss: 0.6577 - val_loss: 0.6794\n",
      "Epoch 15/100\n",
      "31/31 [==============================] - 0s 6ms/step - loss: 0.6571 - val_loss: 0.6792\n",
      "Epoch 16/100\n",
      "31/31 [==============================] - 0s 6ms/step - loss: 0.6566 - val_loss: 0.6790\n",
      "Epoch 17/100\n",
      "31/31 [==============================] - 0s 6ms/step - loss: 0.6560 - val_loss: 0.6788\n",
      "Epoch 18/100\n",
      "31/31 [==============================] - 0s 6ms/step - loss: 0.6555 - val_loss: 0.6785\n",
      "Epoch 19/100\n",
      "31/31 [==============================] - 0s 6ms/step - loss: 0.6549 - val_loss: 0.6783\n",
      "Epoch 20/100\n",
      "31/31 [==============================] - 0s 6ms/step - loss: 0.6544 - val_loss: 0.6781\n",
      "Epoch 21/100\n",
      "31/31 [==============================] - 0s 6ms/step - loss: 0.6538 - val_loss: 0.6779\n",
      "Epoch 22/100\n",
      "31/31 [==============================] - 0s 6ms/step - loss: 0.6532 - val_loss: 0.6777\n",
      "Epoch 23/100\n",
      "31/31 [==============================] - 0s 6ms/step - loss: 0.6527 - val_loss: 0.6774\n",
      "Epoch 24/100\n",
      "31/31 [==============================] - 0s 6ms/step - loss: 0.6521 - val_loss: 0.6772\n",
      "Epoch 25/100\n",
      "31/31 [==============================] - 0s 6ms/step - loss: 0.6515 - val_loss: 0.6770\n",
      "Epoch 26/100\n",
      "31/31 [==============================] - 0s 6ms/step - loss: 0.6509 - val_loss: 0.6768\n",
      "Epoch 27/100\n",
      "31/31 [==============================] - 0s 6ms/step - loss: 0.6503 - val_loss: 0.6765\n",
      "Epoch 28/100\n",
      "31/31 [==============================] - 0s 6ms/step - loss: 0.6497 - val_loss: 0.6763\n",
      "Epoch 29/100\n",
      "31/31 [==============================] - 0s 7ms/step - loss: 0.6491 - val_loss: 0.6760\n",
      "Epoch 30/100\n",
      "31/31 [==============================] - 0s 6ms/step - loss: 0.6485 - val_loss: 0.6758\n",
      "Epoch 31/100\n",
      "31/31 [==============================] - 0s 6ms/step - loss: 0.6479 - val_loss: 0.6756\n",
      "Epoch 32/100\n",
      "31/31 [==============================] - 0s 6ms/step - loss: 0.6473 - val_loss: 0.6753\n",
      "Epoch 33/100\n",
      "31/31 [==============================] - 0s 6ms/step - loss: 0.6467 - val_loss: 0.6751\n",
      "Epoch 34/100\n",
      "31/31 [==============================] - 0s 6ms/step - loss: 0.6461 - val_loss: 0.6748\n",
      "Epoch 35/100\n",
      "31/31 [==============================] - 0s 6ms/step - loss: 0.6455 - val_loss: 0.6746\n",
      "Epoch 36/100\n",
      "31/31 [==============================] - 0s 6ms/step - loss: 0.6449 - val_loss: 0.6744\n",
      "Epoch 37/100\n",
      "31/31 [==============================] - 0s 6ms/step - loss: 0.6443 - val_loss: 0.6741\n",
      "Epoch 38/100\n",
      "31/31 [==============================] - 0s 6ms/step - loss: 0.6436 - val_loss: 0.6739\n",
      "Epoch 39/100\n",
      "31/31 [==============================] - 0s 6ms/step - loss: 0.6430 - val_loss: 0.6736\n",
      "Epoch 40/100\n",
      "31/31 [==============================] - 0s 6ms/step - loss: 0.6424 - val_loss: 0.6734\n",
      "Epoch 41/100\n",
      "31/31 [==============================] - 0s 6ms/step - loss: 0.6417 - val_loss: 0.6731\n",
      "Epoch 42/100\n",
      "31/31 [==============================] - 0s 7ms/step - loss: 0.6411 - val_loss: 0.6728\n",
      "Epoch 43/100\n",
      "31/31 [==============================] - 0s 6ms/step - loss: 0.6405 - val_loss: 0.6726\n",
      "Epoch 44/100\n",
      "31/31 [==============================] - 0s 6ms/step - loss: 0.6398 - val_loss: 0.6723\n",
      "Epoch 45/100\n",
      "31/31 [==============================] - 0s 6ms/step - loss: 0.6392 - val_loss: 0.6721\n",
      "Epoch 46/100\n",
      "31/31 [==============================] - 0s 6ms/step - loss: 0.6385 - val_loss: 0.6718\n",
      "Epoch 47/100\n",
      "31/31 [==============================] - 0s 6ms/step - loss: 0.6379 - val_loss: 0.6715\n",
      "Epoch 48/100\n",
      "31/31 [==============================] - 0s 6ms/step - loss: 0.6372 - val_loss: 0.6713\n",
      "Epoch 49/100\n",
      "31/31 [==============================] - 0s 6ms/step - loss: 0.6365 - val_loss: 0.6710\n",
      "Epoch 50/100\n",
      "31/31 [==============================] - 0s 6ms/step - loss: 0.6359 - val_loss: 0.6708\n",
      "Epoch 51/100\n",
      "31/31 [==============================] - 0s 6ms/step - loss: 0.6352 - val_loss: 0.6705\n",
      "Epoch 52/100\n",
      "31/31 [==============================] - 0s 6ms/step - loss: 0.6345 - val_loss: 0.6702\n",
      "Epoch 53/100\n",
      "31/31 [==============================] - 0s 6ms/step - loss: 0.6339 - val_loss: 0.6699\n",
      "Epoch 54/100\n",
      "31/31 [==============================] - 0s 6ms/step - loss: 0.6332 - val_loss: 0.6697\n",
      "Epoch 55/100\n",
      "31/31 [==============================] - 0s 6ms/step - loss: 0.6325 - val_loss: 0.6694\n",
      "Epoch 56/100\n",
      "31/31 [==============================] - 0s 7ms/step - loss: 0.6318 - val_loss: 0.6691\n",
      "Epoch 57/100\n",
      "31/31 [==============================] - 0s 6ms/step - loss: 0.6312 - val_loss: 0.6688\n",
      "Epoch 58/100\n",
      "31/31 [==============================] - 0s 6ms/step - loss: 0.6305 - val_loss: 0.6686\n",
      "Epoch 59/100\n",
      "31/31 [==============================] - 0s 6ms/step - loss: 0.6298 - val_loss: 0.6683\n",
      "Epoch 60/100\n",
      "31/31 [==============================] - 0s 6ms/step - loss: 0.6291 - val_loss: 0.6680\n",
      "Epoch 61/100\n",
      "31/31 [==============================] - 0s 6ms/step - loss: 0.6284 - val_loss: 0.6677\n",
      "Epoch 62/100\n",
      "31/31 [==============================] - 0s 6ms/step - loss: 0.6277 - val_loss: 0.6674\n",
      "Epoch 63/100\n",
      "31/31 [==============================] - 0s 6ms/step - loss: 0.6270 - val_loss: 0.6672\n",
      "Epoch 64/100\n",
      "31/31 [==============================] - 0s 6ms/step - loss: 0.6263 - val_loss: 0.6669\n",
      "Epoch 65/100\n",
      "31/31 [==============================] - 0s 6ms/step - loss: 0.6256 - val_loss: 0.6666\n",
      "Epoch 66/100\n",
      "31/31 [==============================] - 0s 6ms/step - loss: 0.6249 - val_loss: 0.6663\n",
      "Epoch 67/100\n",
      "31/31 [==============================] - 0s 6ms/step - loss: 0.6242 - val_loss: 0.6660\n",
      "Epoch 68/100\n",
      "31/31 [==============================] - 0s 6ms/step - loss: 0.6235 - val_loss: 0.6657\n",
      "Epoch 69/100\n",
      "31/31 [==============================] - 0s 6ms/step - loss: 0.6228 - val_loss: 0.6654\n",
      "Epoch 70/100\n",
      "31/31 [==============================] - 0s 7ms/step - loss: 0.6220 - val_loss: 0.6651\n",
      "Epoch 71/100\n",
      "31/31 [==============================] - 0s 6ms/step - loss: 0.6213 - val_loss: 0.6648\n",
      "Epoch 72/100\n",
      "31/31 [==============================] - 0s 6ms/step - loss: 0.6206 - val_loss: 0.6645\n",
      "Epoch 73/100\n",
      "31/31 [==============================] - 0s 6ms/step - loss: 0.6199 - val_loss: 0.6642\n",
      "Epoch 74/100\n",
      "31/31 [==============================] - 0s 6ms/step - loss: 0.6191 - val_loss: 0.6639\n",
      "Epoch 75/100\n",
      "31/31 [==============================] - 0s 6ms/step - loss: 0.6184 - val_loss: 0.6636\n",
      "Epoch 76/100\n",
      "31/31 [==============================] - 0s 6ms/step - loss: 0.6177 - val_loss: 0.6633\n",
      "Epoch 77/100\n",
      "31/31 [==============================] - 0s 6ms/step - loss: 0.6170 - val_loss: 0.6630\n",
      "Epoch 78/100\n",
      "31/31 [==============================] - 0s 6ms/step - loss: 0.6162 - val_loss: 0.6627\n",
      "Epoch 79/100\n",
      "31/31 [==============================] - 0s 6ms/step - loss: 0.6155 - val_loss: 0.6624\n",
      "Epoch 80/100\n",
      "31/31 [==============================] - 0s 6ms/step - loss: 0.6147 - val_loss: 0.6621\n",
      "Epoch 81/100\n",
      "31/31 [==============================] - 0s 6ms/step - loss: 0.6140 - val_loss: 0.6618\n",
      "Epoch 82/100\n",
      "31/31 [==============================] - 0s 6ms/step - loss: 0.6133 - val_loss: 0.6615\n",
      "Epoch 83/100\n",
      "31/31 [==============================] - 0s 7ms/step - loss: 0.6125 - val_loss: 0.6612\n",
      "Epoch 84/100\n",
      "31/31 [==============================] - 0s 6ms/step - loss: 0.6118 - val_loss: 0.6608\n",
      "Epoch 85/100\n",
      "31/31 [==============================] - 0s 6ms/step - loss: 0.6110 - val_loss: 0.6605\n",
      "Epoch 86/100\n",
      "31/31 [==============================] - 0s 6ms/step - loss: 0.6103 - val_loss: 0.6602\n",
      "Epoch 87/100\n",
      "31/31 [==============================] - 0s 6ms/step - loss: 0.6095 - val_loss: 0.6599\n",
      "Epoch 88/100\n",
      "31/31 [==============================] - 0s 6ms/step - loss: 0.6088 - val_loss: 0.6596\n",
      "Epoch 89/100\n",
      "31/31 [==============================] - 0s 6ms/step - loss: 0.6080 - val_loss: 0.6592\n",
      "Epoch 90/100\n",
      "31/31 [==============================] - 0s 6ms/step - loss: 0.6072 - val_loss: 0.6589\n",
      "Epoch 91/100\n",
      "31/31 [==============================] - 0s 6ms/step - loss: 0.6065 - val_loss: 0.6586\n",
      "Epoch 92/100\n",
      "31/31 [==============================] - 0s 6ms/step - loss: 0.6057 - val_loss: 0.6583\n",
      "Epoch 93/100\n",
      "31/31 [==============================] - 0s 6ms/step - loss: 0.6050 - val_loss: 0.6579\n",
      "Epoch 94/100\n",
      "31/31 [==============================] - 0s 6ms/step - loss: 0.6042 - val_loss: 0.6576\n",
      "Epoch 95/100\n",
      "31/31 [==============================] - 0s 7ms/step - loss: 0.6034 - val_loss: 0.6573\n",
      "Epoch 96/100\n",
      "31/31 [==============================] - 0s 6ms/step - loss: 0.6027 - val_loss: 0.6569\n",
      "Epoch 97/100\n",
      "31/31 [==============================] - 0s 6ms/step - loss: 0.6019 - val_loss: 0.6566\n",
      "Epoch 98/100\n",
      "31/31 [==============================] - 0s 6ms/step - loss: 0.6011 - val_loss: 0.6563\n",
      "Epoch 99/100\n",
      "31/31 [==============================] - 0s 6ms/step - loss: 0.6004 - val_loss: 0.6559\n",
      "Epoch 100/100\n",
      "31/31 [==============================] - 0s 6ms/step - loss: 0.5996 - val_loss: 0.6556\n"
     ]
    },
    {
     "data": {
      "text/plain": [
       "<keras.src.callbacks.History at 0x1fa5af62790>"
      ]
     },
     "execution_count": 25,
     "metadata": {},
     "output_type": "execute_result"
    }
   ],
   "source": [
    "baseline.compile(loss=k.losses.BinaryCrossentropy(), optimizer='adam')\n",
    "baseline.fit(\n",
    "    x=X_train,\n",
    "    y=y_train,\n",
    "    batch_size=32,\n",
    "    epochs=100,\n",
    "    validation_data=(X_valid, y_valid),\n",
    "    shuffle=False,\n",
    ")"
   ]
  },
  {
   "cell_type": "code",
   "execution_count": 29,
   "metadata": {},
   "outputs": [
    {
     "name": "stdout",
     "output_type": "stream",
     "text": [
      "4/4 [==============================] - 0s 3ms/step\n"
     ]
    },
    {
     "data": {
      "text/plain": [
       "'73.17%'"
      ]
     },
     "execution_count": 29,
     "metadata": {},
     "output_type": "execute_result"
    }
   ],
   "source": [
    "y_pred = np.round(baseline.predict(X_test))\n",
    "acc = accuracy_score(y_test, y_pred)\n",
    "f'{acc*100:.2f}%'"
   ]
  }
 ],
 "metadata": {
  "kernelspec": {
   "display_name": "ml",
   "language": "python",
   "name": "python3"
  },
  "language_info": {
   "codemirror_mode": {
    "name": "ipython",
    "version": 3
   },
   "file_extension": ".py",
   "mimetype": "text/x-python",
   "name": "python",
   "nbconvert_exporter": "python",
   "pygments_lexer": "ipython3",
   "version": "3.11.7"
  }
 },
 "nbformat": 4,
 "nbformat_minor": 2
}
