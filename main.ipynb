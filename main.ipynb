{
 "cells": [
  {
   "cell_type": "markdown",
   "metadata": {},
   "source": [
    "# Imports"
   ]
  },
  {
   "cell_type": "code",
   "execution_count": 1,
   "metadata": {},
   "outputs": [],
   "source": [
    "from modules import *\n",
    "from models.baseline import Baseline\n",
    "import pandas as pd\n",
    "import torch.optim as optim\n",
    "import torch.nn as nn"
   ]
  },
  {
   "cell_type": "markdown",
   "metadata": {},
   "source": [
    "# PATH"
   ]
  },
  {
   "cell_type": "code",
   "execution_count": 2,
   "metadata": {},
   "outputs": [],
   "source": [
    "PATH = 'datasets/'\n",
    "train_df = pd.read_csv(PATH + 'train_dataset.csv')\n",
    "valid_df = pd.read_csv(PATH + 'valid_dataset.csv')\n",
    "test_df = pd.read_csv(PATH + 'test_dataset.csv')"
   ]
  },
  {
   "cell_type": "markdown",
   "metadata": {},
   "source": [
    "# Dataloaders"
   ]
  },
  {
   "cell_type": "code",
   "execution_count": 3,
   "metadata": {},
   "outputs": [],
   "source": [
    "train_dataloader, valid_dataloader, test_dataloader = pdToDataLoader(\n",
    "    train_df, \n",
    "    valid_df, \n",
    "    test_df, \n",
    "    'target', \n",
    "    32\n",
    ")"
   ]
  },
  {
   "cell_type": "markdown",
   "metadata": {},
   "source": [
    "# Models"
   ]
  },
  {
   "cell_type": "code",
   "execution_count": 25,
   "metadata": {},
   "outputs": [],
   "source": [
    "baseline_model = Baseline(\n",
    "    input_size = 14,\n",
    "    hidden_size = 32,\n",
    "    num_layers = 8,\n",
    "    num_classes = 1\n",
    ")"
   ]
  },
  {
   "cell_type": "code",
   "execution_count": 26,
   "metadata": {},
   "outputs": [],
   "source": [
    "loss_fn = nn.BCEWithLogitsLoss()\n",
    "optimizer = optim.Adam(baseline_model.parameters(), lr=0.01)"
   ]
  },
  {
   "cell_type": "markdown",
   "metadata": {},
   "source": [
    "# Training"
   ]
  },
  {
   "cell_type": "code",
   "execution_count": 27,
   "metadata": {},
   "outputs": [
    {
     "name": "stdout",
     "output_type": "stream",
     "text": [
      "Epoch: 1 | train_loss: 0.6940 | train_acc: 48.1725 | valid_loss: 0.6923 | valid_acc: 58.9844\n",
      "Epoch: 2 | train_loss: 0.6935 | train_acc: 48.1725 | valid_loss: 0.6917 | valid_acc: 58.9844\n",
      "Epoch: 3 | train_loss: 0.6932 | train_acc: 48.1725 | valid_loss: 0.6916 | valid_acc: 58.9844\n",
      "Epoch: 4 | train_loss: 0.6931 | train_acc: 48.1725 | valid_loss: 0.6915 | valid_acc: 58.9844\n",
      "Epoch: 5 | train_loss: 0.6930 | train_acc: 48.1725 | valid_loss: 0.6914 | valid_acc: 58.9844\n",
      "Epoch: 6 | train_loss: 0.6930 | train_acc: 48.1725 | valid_loss: 0.6914 | valid_acc: 58.9844\n",
      "Epoch: 7 | train_loss: 0.6930 | train_acc: 48.1725 | valid_loss: 0.6914 | valid_acc: 58.9844\n",
      "Epoch: 8 | train_loss: 0.6930 | train_acc: 48.1725 | valid_loss: 0.6914 | valid_acc: 58.9844\n",
      "Epoch: 9 | train_loss: 0.6929 | train_acc: 48.1725 | valid_loss: 0.6914 | valid_acc: 58.9844\n",
      "Epoch: 10 | train_loss: 0.6929 | train_acc: 48.1725 | valid_loss: 0.6913 | valid_acc: 58.9844\n",
      "test_loss: 0.6928 | test_acc: 48.5677\n"
     ]
    }
   ],
   "source": [
    "EPOCHS = 10\n",
    "baseline_model_result = train(model=baseline_model,\n",
    "                              train_dataloader=train_dataloader,\n",
    "                              valid_dataloader=valid_dataloader,\n",
    "                              optimizer=optimizer,\n",
    "                              loss_fn=loss_fn,\n",
    "                              epochs=EPOCHS)\n",
    "test_results = test_step(model=baseline_model,\n",
    "          dataloader=test_dataloader,\n",
    "          loss_fn=loss_fn,)\n",
    "print(f\"test_loss: {test_results[0]:.4f} | test_acc: {test_results[1]:.4f}\")"
   ]
  }
 ],
 "metadata": {
  "kernelspec": {
   "display_name": "ml",
   "language": "python",
   "name": "python3"
  },
  "language_info": {
   "codemirror_mode": {
    "name": "ipython",
    "version": 3
   },
   "file_extension": ".py",
   "mimetype": "text/x-python",
   "name": "python",
   "nbconvert_exporter": "python",
   "pygments_lexer": "ipython3",
   "version": "3.11.7"
  }
 },
 "nbformat": 4,
 "nbformat_minor": 2
}
