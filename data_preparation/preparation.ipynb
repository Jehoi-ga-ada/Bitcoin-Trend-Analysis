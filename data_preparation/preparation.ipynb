{
 "cells": [
  {
   "cell_type": "markdown",
   "metadata": {},
   "source": [
    "# Imports"
   ]
  },
  {
   "cell_type": "code",
   "execution_count": 1,
   "metadata": {},
   "outputs": [],
   "source": [
    "import pandas as pd\n",
    "from sklearn.model_selection import train_test_split \n",
    "from torch.utils.data import DataLoader\n",
    "from sklearn.preprocessing import MinMaxScaler"
   ]
  },
  {
   "cell_type": "markdown",
   "metadata": {},
   "source": [
    "# Loading data"
   ]
  },
  {
   "cell_type": "code",
   "execution_count": 2,
   "metadata": {},
   "outputs": [
    {
     "data": {
      "text/html": [
       "<div>\n",
       "<style scoped>\n",
       "    .dataframe tbody tr th:only-of-type {\n",
       "        vertical-align: middle;\n",
       "    }\n",
       "\n",
       "    .dataframe tbody tr th {\n",
       "        vertical-align: top;\n",
       "    }\n",
       "\n",
       "    .dataframe thead th {\n",
       "        text-align: right;\n",
       "    }\n",
       "</style>\n",
       "<table border=\"1\" class=\"dataframe\">\n",
       "  <thead>\n",
       "    <tr style=\"text-align: right;\">\n",
       "      <th></th>\n",
       "      <th>Date</th>\n",
       "      <th>open</th>\n",
       "      <th>high</th>\n",
       "      <th>low</th>\n",
       "      <th>close</th>\n",
       "      <th>volume</th>\n",
       "      <th>stoch_k</th>\n",
       "      <th>stoch_k_smooth</th>\n",
       "      <th>stoch_d</th>\n",
       "      <th>ma_5</th>\n",
       "      <th>ma_13</th>\n",
       "      <th>fng_value</th>\n",
       "      <th>fng_classification</th>\n",
       "      <th>tomorrow</th>\n",
       "      <th>target</th>\n",
       "    </tr>\n",
       "  </thead>\n",
       "  <tbody>\n",
       "    <tr>\n",
       "      <th>0</th>\n",
       "      <td>2018-02-01</td>\n",
       "      <td>10237.299805</td>\n",
       "      <td>10288.799805</td>\n",
       "      <td>8812.280273</td>\n",
       "      <td>9170.540039</td>\n",
       "      <td>9959400448</td>\n",
       "      <td>11.098439</td>\n",
       "      <td>11.401036</td>\n",
       "      <td>27.762554</td>\n",
       "      <td>10516.127930</td>\n",
       "      <td>11085.433969</td>\n",
       "      <td>30.0</td>\n",
       "      <td>Fear</td>\n",
       "      <td>8830.750000</td>\n",
       "      <td>0</td>\n",
       "    </tr>\n",
       "    <tr>\n",
       "      <th>1</th>\n",
       "      <td>2018-02-02</td>\n",
       "      <td>9142.280273</td>\n",
       "      <td>9142.280273</td>\n",
       "      <td>7796.490234</td>\n",
       "      <td>8830.750000</td>\n",
       "      <td>12726899712</td>\n",
       "      <td>25.355039</td>\n",
       "      <td>18.686779</td>\n",
       "      <td>18.442888</td>\n",
       "      <td>9925.017969</td>\n",
       "      <td>10772.476262</td>\n",
       "      <td>15.0</td>\n",
       "      <td>Extreme Fear</td>\n",
       "      <td>9174.910156</td>\n",
       "      <td>1</td>\n",
       "    </tr>\n",
       "    <tr>\n",
       "      <th>2</th>\n",
       "      <td>2018-02-03</td>\n",
       "      <td>8852.120117</td>\n",
       "      <td>9430.750000</td>\n",
       "      <td>8251.629883</td>\n",
       "      <td>9174.910156</td>\n",
       "      <td>7263790080</td>\n",
       "      <td>39.263281</td>\n",
       "      <td>25.238920</td>\n",
       "      <td>18.442245</td>\n",
       "      <td>9500.719922</td>\n",
       "      <td>10585.923227</td>\n",
       "      <td>40.0</td>\n",
       "      <td>Fear</td>\n",
       "      <td>8277.009766</td>\n",
       "      <td>0</td>\n",
       "    </tr>\n",
       "  </tbody>\n",
       "</table>\n",
       "</div>"
      ],
      "text/plain": [
       "         Date          open          high          low        close  \\\n",
       "0  2018-02-01  10237.299805  10288.799805  8812.280273  9170.540039   \n",
       "1  2018-02-02   9142.280273   9142.280273  7796.490234  8830.750000   \n",
       "2  2018-02-03   8852.120117   9430.750000  8251.629883  9174.910156   \n",
       "\n",
       "        volume    stoch_k  stoch_k_smooth    stoch_d          ma_5  \\\n",
       "0   9959400448  11.098439       11.401036  27.762554  10516.127930   \n",
       "1  12726899712  25.355039       18.686779  18.442888   9925.017969   \n",
       "2   7263790080  39.263281       25.238920  18.442245   9500.719922   \n",
       "\n",
       "          ma_13   fng_value fng_classification     tomorrow  target  \n",
       "0  11085.433969        30.0               Fear  8830.750000       0  \n",
       "1  10772.476262        15.0       Extreme Fear  9174.910156       1  \n",
       "2  10585.923227        40.0               Fear  8277.009766       0  "
      ]
     },
     "execution_count": 2,
     "metadata": {},
     "output_type": "execute_result"
    }
   ],
   "source": [
    "PATH = \"../datasets/final_data.csv\"\n",
    "df = pd.read_csv(PATH)\n",
    "df.head(3)"
   ]
  },
  {
   "cell_type": "code",
   "execution_count": 3,
   "metadata": {},
   "outputs": [],
   "source": [
    "df = df.iloc[1034:]"
   ]
  },
  {
   "cell_type": "code",
   "execution_count": 4,
   "metadata": {},
   "outputs": [
    {
     "data": {
      "text/plain": [
       "1223"
      ]
     },
     "execution_count": 4,
     "metadata": {},
     "output_type": "execute_result"
    }
   ],
   "source": [
    "len(df)"
   ]
  },
  {
   "cell_type": "markdown",
   "metadata": {},
   "source": [
    "# Preparation for training and test data"
   ]
  },
  {
   "cell_type": "markdown",
   "metadata": {},
   "source": [
    "Check for balance\n",
    "The data is fairly balanced, seems we don't need to resample the data"
   ]
  },
  {
   "cell_type": "code",
   "execution_count": 5,
   "metadata": {},
   "outputs": [
    {
     "data": {
      "text/plain": [
       "target\n",
       "1    0.502044\n",
       "0    0.497956\n",
       "Name: proportion, dtype: float64"
      ]
     },
     "execution_count": 5,
     "metadata": {},
     "output_type": "execute_result"
    }
   ],
   "source": [
    "df['target'].value_counts(normalize=True)"
   ]
  },
  {
   "cell_type": "markdown",
   "metadata": {},
   "source": [
    "Check for missing data"
   ]
  },
  {
   "cell_type": "code",
   "execution_count": 6,
   "metadata": {},
   "outputs": [
    {
     "data": {
      "text/plain": [
       "Date                  0\n",
       "open                  0\n",
       "high                  0\n",
       "low                   0\n",
       "close                 0\n",
       "volume                0\n",
       "stoch_k               0\n",
       "stoch_k_smooth        0\n",
       "stoch_d               0\n",
       "ma_5                  0\n",
       "ma_13                 0\n",
       " fng_value            0\n",
       "fng_classification    0\n",
       "tomorrow              1\n",
       "target                0\n",
       "dtype: int64"
      ]
     },
     "execution_count": 6,
     "metadata": {},
     "output_type": "execute_result"
    }
   ],
   "source": [
    "df.isna().sum()"
   ]
  },
  {
   "cell_type": "markdown",
   "metadata": {},
   "source": [
    "dropping missing data"
   ]
  },
  {
   "cell_type": "code",
   "execution_count": 7,
   "metadata": {},
   "outputs": [
    {
     "data": {
      "text/plain": [
       "Date                  0\n",
       "open                  0\n",
       "high                  0\n",
       "low                   0\n",
       "close                 0\n",
       "volume                0\n",
       "stoch_k               0\n",
       "stoch_k_smooth        0\n",
       "stoch_d               0\n",
       "ma_5                  0\n",
       "ma_13                 0\n",
       " fng_value            0\n",
       "fng_classification    0\n",
       "tomorrow              0\n",
       "target                0\n",
       "dtype: int64"
      ]
     },
     "execution_count": 7,
     "metadata": {},
     "output_type": "execute_result"
    }
   ],
   "source": [
    "df.dropna(inplace=True)\n",
    "df.isna().sum()"
   ]
  },
  {
   "cell_type": "markdown",
   "metadata": {},
   "source": [
    "Mapping data"
   ]
  },
  {
   "cell_type": "code",
   "execution_count": 8,
   "metadata": {},
   "outputs": [
    {
     "data": {
      "text/plain": [
       "array(['Extreme Greed', 'Greed', 'Fear', 'Neutral', 'Extreme Fear'],\n",
       "      dtype=object)"
      ]
     },
     "execution_count": 8,
     "metadata": {},
     "output_type": "execute_result"
    }
   ],
   "source": [
    "fng_classes = df['fng_classification'].unique()\n",
    "fng_classes"
   ]
  },
  {
   "cell_type": "code",
   "execution_count": 9,
   "metadata": {},
   "outputs": [],
   "source": [
    "df['fng_classification'] = df['fng_classification'].map({'Extreme Fear': 0, 'Fear': 1, 'Neutral': 2, 'Greed':3, 'Extreme Greed': 4})"
   ]
  },
  {
   "cell_type": "code",
   "execution_count": 10,
   "metadata": {},
   "outputs": [
    {
     "data": {
      "text/plain": [
       "1034    4\n",
       "1035    4\n",
       "1036    4\n",
       "1037    4\n",
       "1038    4\n",
       "       ..\n",
       "2251    4\n",
       "2252    4\n",
       "2253    3\n",
       "2254    3\n",
       "2255    4\n",
       "Name: fng_classification, Length: 1222, dtype: int64"
      ]
     },
     "execution_count": 10,
     "metadata": {},
     "output_type": "execute_result"
    }
   ],
   "source": [
    "df['fng_classification']"
   ]
  },
  {
   "cell_type": "markdown",
   "metadata": {},
   "source": [
    "Scaling the data"
   ]
  },
  {
   "cell_type": "code",
   "execution_count": 11,
   "metadata": {},
   "outputs": [
    {
     "data": {
      "text/plain": [
       "array(['Date', 'open', 'high', 'low', 'close', 'volume', 'stoch_k',\n",
       "       'stoch_k_smooth', 'stoch_d', 'ma_5', 'ma_13', ' fng_value',\n",
       "       'fng_classification', 'tomorrow', 'target'], dtype=object)"
      ]
     },
     "execution_count": 11,
     "metadata": {},
     "output_type": "execute_result"
    }
   ],
   "source": [
    "df.columns.values"
   ]
  },
  {
   "cell_type": "code",
   "execution_count": 12,
   "metadata": {},
   "outputs": [],
   "source": [
    "columns_to_scale = ['open', 'high', 'low', 'close', 'volume', 'stoch_k', 'stoch_k_smooth', 'stoch_d', 'ma_5', 'ma_13', ' fng_value', 'tomorrow']"
   ]
  },
  {
   "cell_type": "code",
   "execution_count": 13,
   "metadata": {},
   "outputs": [
    {
     "data": {
      "text/html": [
       "<style>#sk-container-id-1 {color: black;}#sk-container-id-1 pre{padding: 0;}#sk-container-id-1 div.sk-toggleable {background-color: white;}#sk-container-id-1 label.sk-toggleable__label {cursor: pointer;display: block;width: 100%;margin-bottom: 0;padding: 0.3em;box-sizing: border-box;text-align: center;}#sk-container-id-1 label.sk-toggleable__label-arrow:before {content: \"▸\";float: left;margin-right: 0.25em;color: #696969;}#sk-container-id-1 label.sk-toggleable__label-arrow:hover:before {color: black;}#sk-container-id-1 div.sk-estimator:hover label.sk-toggleable__label-arrow:before {color: black;}#sk-container-id-1 div.sk-toggleable__content {max-height: 0;max-width: 0;overflow: hidden;text-align: left;background-color: #f0f8ff;}#sk-container-id-1 div.sk-toggleable__content pre {margin: 0.2em;color: black;border-radius: 0.25em;background-color: #f0f8ff;}#sk-container-id-1 input.sk-toggleable__control:checked~div.sk-toggleable__content {max-height: 200px;max-width: 100%;overflow: auto;}#sk-container-id-1 input.sk-toggleable__control:checked~label.sk-toggleable__label-arrow:before {content: \"▾\";}#sk-container-id-1 div.sk-estimator input.sk-toggleable__control:checked~label.sk-toggleable__label {background-color: #d4ebff;}#sk-container-id-1 div.sk-label input.sk-toggleable__control:checked~label.sk-toggleable__label {background-color: #d4ebff;}#sk-container-id-1 input.sk-hidden--visually {border: 0;clip: rect(1px 1px 1px 1px);clip: rect(1px, 1px, 1px, 1px);height: 1px;margin: -1px;overflow: hidden;padding: 0;position: absolute;width: 1px;}#sk-container-id-1 div.sk-estimator {font-family: monospace;background-color: #f0f8ff;border: 1px dotted black;border-radius: 0.25em;box-sizing: border-box;margin-bottom: 0.5em;}#sk-container-id-1 div.sk-estimator:hover {background-color: #d4ebff;}#sk-container-id-1 div.sk-parallel-item::after {content: \"\";width: 100%;border-bottom: 1px solid gray;flex-grow: 1;}#sk-container-id-1 div.sk-label:hover label.sk-toggleable__label {background-color: #d4ebff;}#sk-container-id-1 div.sk-serial::before {content: \"\";position: absolute;border-left: 1px solid gray;box-sizing: border-box;top: 0;bottom: 0;left: 50%;z-index: 0;}#sk-container-id-1 div.sk-serial {display: flex;flex-direction: column;align-items: center;background-color: white;padding-right: 0.2em;padding-left: 0.2em;position: relative;}#sk-container-id-1 div.sk-item {position: relative;z-index: 1;}#sk-container-id-1 div.sk-parallel {display: flex;align-items: stretch;justify-content: center;background-color: white;position: relative;}#sk-container-id-1 div.sk-item::before, #sk-container-id-1 div.sk-parallel-item::before {content: \"\";position: absolute;border-left: 1px solid gray;box-sizing: border-box;top: 0;bottom: 0;left: 50%;z-index: -1;}#sk-container-id-1 div.sk-parallel-item {display: flex;flex-direction: column;z-index: 1;position: relative;background-color: white;}#sk-container-id-1 div.sk-parallel-item:first-child::after {align-self: flex-end;width: 50%;}#sk-container-id-1 div.sk-parallel-item:last-child::after {align-self: flex-start;width: 50%;}#sk-container-id-1 div.sk-parallel-item:only-child::after {width: 0;}#sk-container-id-1 div.sk-dashed-wrapped {border: 1px dashed gray;margin: 0 0.4em 0.5em 0.4em;box-sizing: border-box;padding-bottom: 0.4em;background-color: white;}#sk-container-id-1 div.sk-label label {font-family: monospace;font-weight: bold;display: inline-block;line-height: 1.2em;}#sk-container-id-1 div.sk-label-container {text-align: center;}#sk-container-id-1 div.sk-container {/* jupyter's `normalize.less` sets `[hidden] { display: none; }` but bootstrap.min.css set `[hidden] { display: none !important; }` so we also need the `!important` here to be able to override the default hidden behavior on the sphinx rendered scikit-learn.org. See: https://github.com/scikit-learn/scikit-learn/issues/21755 */display: inline-block !important;position: relative;}#sk-container-id-1 div.sk-text-repr-fallback {display: none;}</style><div id=\"sk-container-id-1\" class=\"sk-top-container\"><div class=\"sk-text-repr-fallback\"><pre>MinMaxScaler()</pre><b>In a Jupyter environment, please rerun this cell to show the HTML representation or trust the notebook. <br />On GitHub, the HTML representation is unable to render, please try loading this page with nbviewer.org.</b></div><div class=\"sk-container\" hidden><div class=\"sk-item\"><div class=\"sk-estimator sk-toggleable\"><input class=\"sk-toggleable__control sk-hidden--visually\" id=\"sk-estimator-id-1\" type=\"checkbox\" checked><label for=\"sk-estimator-id-1\" class=\"sk-toggleable__label sk-toggleable__label-arrow\">MinMaxScaler</label><div class=\"sk-toggleable__content\"><pre>MinMaxScaler()</pre></div></div></div></div></div>"
      ],
      "text/plain": [
       "MinMaxScaler()"
      ]
     },
     "execution_count": 13,
     "metadata": {},
     "output_type": "execute_result"
    }
   ],
   "source": [
    "scaler = MinMaxScaler()\n",
    "scaler.fit(df[columns_to_scale])"
   ]
  },
  {
   "cell_type": "code",
   "execution_count": 14,
   "metadata": {},
   "outputs": [],
   "source": [
    "scaled_data = scaler.transform(df[columns_to_scale])\n",
    "df[columns_to_scale] = scaled_data"
   ]
  },
  {
   "cell_type": "code",
   "execution_count": 15,
   "metadata": {},
   "outputs": [
    {
     "data": {
      "text/html": [
       "<div>\n",
       "<style scoped>\n",
       "    .dataframe tbody tr th:only-of-type {\n",
       "        vertical-align: middle;\n",
       "    }\n",
       "\n",
       "    .dataframe tbody tr th {\n",
       "        vertical-align: top;\n",
       "    }\n",
       "\n",
       "    .dataframe thead th {\n",
       "        text-align: right;\n",
       "    }\n",
       "</style>\n",
       "<table border=\"1\" class=\"dataframe\">\n",
       "  <thead>\n",
       "    <tr style=\"text-align: right;\">\n",
       "      <th></th>\n",
       "      <th>Date</th>\n",
       "      <th>open</th>\n",
       "      <th>high</th>\n",
       "      <th>low</th>\n",
       "      <th>close</th>\n",
       "      <th>volume</th>\n",
       "      <th>stoch_k</th>\n",
       "      <th>stoch_k_smooth</th>\n",
       "      <th>stoch_d</th>\n",
       "      <th>ma_5</th>\n",
       "      <th>ma_13</th>\n",
       "      <th>fng_value</th>\n",
       "      <th>fng_classification</th>\n",
       "      <th>tomorrow</th>\n",
       "      <th>target</th>\n",
       "    </tr>\n",
       "  </thead>\n",
       "  <tbody>\n",
       "    <tr>\n",
       "      <th>1034</th>\n",
       "      <td>2020-12-01</td>\n",
       "      <td>0.067219</td>\n",
       "      <td>0.062489</td>\n",
       "      <td>0.048854</td>\n",
       "      <td>0.052634</td>\n",
       "      <td>0.128176</td>\n",
       "      <td>0.685808</td>\n",
       "      <td>0.754812</td>\n",
       "      <td>0.626099</td>\n",
       "      <td>0.036043</td>\n",
       "      <td>0.035915</td>\n",
       "      <td>1.000000</td>\n",
       "      <td>4</td>\n",
       "      <td>0.059582</td>\n",
       "      <td>1</td>\n",
       "    </tr>\n",
       "    <tr>\n",
       "      <th>1035</th>\n",
       "      <td>2020-12-02</td>\n",
       "      <td>0.052698</td>\n",
       "      <td>0.053138</td>\n",
       "      <td>0.049317</td>\n",
       "      <td>0.059582</td>\n",
       "      <td>0.092746</td>\n",
       "      <td>0.780303</td>\n",
       "      <td>0.816918</td>\n",
       "      <td>0.761383</td>\n",
       "      <td>0.043625</td>\n",
       "      <td>0.037939</td>\n",
       "      <td>0.966292</td>\n",
       "      <td>4</td>\n",
       "      <td>0.063846</td>\n",
       "      <td>1</td>\n",
       "    </tr>\n",
       "    <tr>\n",
       "      <th>1036</th>\n",
       "      <td>2020-12-03</td>\n",
       "      <td>0.059752</td>\n",
       "      <td>0.057623</td>\n",
       "      <td>0.059688</td>\n",
       "      <td>0.063846</td>\n",
       "      <td>0.076957</td>\n",
       "      <td>0.824836</td>\n",
       "      <td>0.768874</td>\n",
       "      <td>0.794531</td>\n",
       "      <td>0.049886</td>\n",
       "      <td>0.039144</td>\n",
       "      <td>0.966292</td>\n",
       "      <td>4</td>\n",
       "      <td>0.050832</td>\n",
       "      <td>0</td>\n",
       "    </tr>\n",
       "    <tr>\n",
       "      <th>1037</th>\n",
       "      <td>2020-12-04</td>\n",
       "      <td>0.063959</td>\n",
       "      <td>0.056670</td>\n",
       "      <td>0.055587</td>\n",
       "      <td>0.050832</td>\n",
       "      <td>0.082576</td>\n",
       "      <td>0.312681</td>\n",
       "      <td>0.639762</td>\n",
       "      <td>0.754738</td>\n",
       "      <td>0.051778</td>\n",
       "      <td>0.039228</td>\n",
       "      <td>0.966292</td>\n",
       "      <td>4</td>\n",
       "      <td>0.058764</td>\n",
       "      <td>1</td>\n",
       "    </tr>\n",
       "    <tr>\n",
       "      <th>1038</th>\n",
       "      <td>2020-12-05</td>\n",
       "      <td>0.050894</td>\n",
       "      <td>0.050566</td>\n",
       "      <td>0.053667</td>\n",
       "      <td>0.058764</td>\n",
       "      <td>0.063394</td>\n",
       "      <td>0.546115</td>\n",
       "      <td>0.558727</td>\n",
       "      <td>0.665436</td>\n",
       "      <td>0.050069</td>\n",
       "      <td>0.040375</td>\n",
       "      <td>0.977528</td>\n",
       "      <td>4</td>\n",
       "      <td>0.062095</td>\n",
       "      <td>1</td>\n",
       "    </tr>\n",
       "    <tr>\n",
       "      <th>...</th>\n",
       "      <td>...</td>\n",
       "      <td>...</td>\n",
       "      <td>...</td>\n",
       "      <td>...</td>\n",
       "      <td>...</td>\n",
       "      <td>...</td>\n",
       "      <td>...</td>\n",
       "      <td>...</td>\n",
       "      <td>...</td>\n",
       "      <td>...</td>\n",
       "      <td>...</td>\n",
       "      <td>...</td>\n",
       "      <td>...</td>\n",
       "      <td>...</td>\n",
       "      <td>...</td>\n",
       "    </tr>\n",
       "    <tr>\n",
       "      <th>2251</th>\n",
       "      <td>2024-04-01</td>\n",
       "      <td>0.969529</td>\n",
       "      <td>0.958120</td>\n",
       "      <td>0.942166</td>\n",
       "      <td>0.940985</td>\n",
       "      <td>0.085472</td>\n",
       "      <td>0.463261</td>\n",
       "      <td>0.572381</td>\n",
       "      <td>0.623911</td>\n",
       "      <td>0.977645</td>\n",
       "      <td>0.987728</td>\n",
       "      <td>0.820225</td>\n",
       "      <td>4</td>\n",
       "      <td>0.866718</td>\n",
       "      <td>0</td>\n",
       "    </tr>\n",
       "    <tr>\n",
       "      <th>2252</th>\n",
       "      <td>2024-04-02</td>\n",
       "      <td>0.941108</td>\n",
       "      <td>0.929706</td>\n",
       "      <td>0.878936</td>\n",
       "      <td>0.866718</td>\n",
       "      <td>0.131277</td>\n",
       "      <td>0.126690</td>\n",
       "      <td>0.485558</td>\n",
       "      <td>0.571766</td>\n",
       "      <td>0.958449</td>\n",
       "      <td>0.984121</td>\n",
       "      <td>0.820225</td>\n",
       "      <td>4</td>\n",
       "      <td>0.876036</td>\n",
       "      <td>1</td>\n",
       "    </tr>\n",
       "    <tr>\n",
       "      <th>2253</th>\n",
       "      <td>2024-04-03</td>\n",
       "      <td>0.866787</td>\n",
       "      <td>0.881111</td>\n",
       "      <td>0.878457</td>\n",
       "      <td>0.876036</td>\n",
       "      <td>0.084357</td>\n",
       "      <td>0.208410</td>\n",
       "      <td>0.252398</td>\n",
       "      <td>0.438188</td>\n",
       "      <td>0.944276</td>\n",
       "      <td>0.984836</td>\n",
       "      <td>0.730337</td>\n",
       "      <td>3</td>\n",
       "      <td>0.920158</td>\n",
       "      <td>1</td>\n",
       "    </tr>\n",
       "    <tr>\n",
       "      <th>2254</th>\n",
       "      <td>2024-04-04</td>\n",
       "      <td>0.876020</td>\n",
       "      <td>0.922451</td>\n",
       "      <td>0.888395</td>\n",
       "      <td>0.920158</td>\n",
       "      <td>0.084217</td>\n",
       "      <td>0.579204</td>\n",
       "      <td>0.292518</td>\n",
       "      <td>0.341390</td>\n",
       "      <td>0.940158</td>\n",
       "      <td>0.991753</td>\n",
       "      <td>0.719101</td>\n",
       "      <td>3</td>\n",
       "      <td>0.908443</td>\n",
       "      <td>0</td>\n",
       "    </tr>\n",
       "    <tr>\n",
       "      <th>2255</th>\n",
       "      <td>2024-04-05</td>\n",
       "      <td>0.920352</td>\n",
       "      <td>0.912616</td>\n",
       "      <td>0.904501</td>\n",
       "      <td>0.908443</td>\n",
       "      <td>0.082217</td>\n",
       "      <td>0.483286</td>\n",
       "      <td>0.415910</td>\n",
       "      <td>0.317300</td>\n",
       "      <td>0.927492</td>\n",
       "      <td>0.997273</td>\n",
       "      <td>0.820225</td>\n",
       "      <td>4</td>\n",
       "      <td>0.906564</td>\n",
       "      <td>0</td>\n",
       "    </tr>\n",
       "  </tbody>\n",
       "</table>\n",
       "<p>1222 rows × 15 columns</p>\n",
       "</div>"
      ],
      "text/plain": [
       "            Date      open      high       low     close    volume   stoch_k  \\\n",
       "1034  2020-12-01  0.067219  0.062489  0.048854  0.052634  0.128176  0.685808   \n",
       "1035  2020-12-02  0.052698  0.053138  0.049317  0.059582  0.092746  0.780303   \n",
       "1036  2020-12-03  0.059752  0.057623  0.059688  0.063846  0.076957  0.824836   \n",
       "1037  2020-12-04  0.063959  0.056670  0.055587  0.050832  0.082576  0.312681   \n",
       "1038  2020-12-05  0.050894  0.050566  0.053667  0.058764  0.063394  0.546115   \n",
       "...          ...       ...       ...       ...       ...       ...       ...   \n",
       "2251  2024-04-01  0.969529  0.958120  0.942166  0.940985  0.085472  0.463261   \n",
       "2252  2024-04-02  0.941108  0.929706  0.878936  0.866718  0.131277  0.126690   \n",
       "2253  2024-04-03  0.866787  0.881111  0.878457  0.876036  0.084357  0.208410   \n",
       "2254  2024-04-04  0.876020  0.922451  0.888395  0.920158  0.084217  0.579204   \n",
       "2255  2024-04-05  0.920352  0.912616  0.904501  0.908443  0.082217  0.483286   \n",
       "\n",
       "      stoch_k_smooth   stoch_d      ma_5     ma_13   fng_value  \\\n",
       "1034        0.754812  0.626099  0.036043  0.035915    1.000000   \n",
       "1035        0.816918  0.761383  0.043625  0.037939    0.966292   \n",
       "1036        0.768874  0.794531  0.049886  0.039144    0.966292   \n",
       "1037        0.639762  0.754738  0.051778  0.039228    0.966292   \n",
       "1038        0.558727  0.665436  0.050069  0.040375    0.977528   \n",
       "...              ...       ...       ...       ...         ...   \n",
       "2251        0.572381  0.623911  0.977645  0.987728    0.820225   \n",
       "2252        0.485558  0.571766  0.958449  0.984121    0.820225   \n",
       "2253        0.252398  0.438188  0.944276  0.984836    0.730337   \n",
       "2254        0.292518  0.341390  0.940158  0.991753    0.719101   \n",
       "2255        0.415910  0.317300  0.927492  0.997273    0.820225   \n",
       "\n",
       "      fng_classification  tomorrow  target  \n",
       "1034                   4  0.059582       1  \n",
       "1035                   4  0.063846       1  \n",
       "1036                   4  0.050832       0  \n",
       "1037                   4  0.058764       1  \n",
       "1038                   4  0.062095       1  \n",
       "...                  ...       ...     ...  \n",
       "2251                   4  0.866718       0  \n",
       "2252                   4  0.876036       1  \n",
       "2253                   3  0.920158       1  \n",
       "2254                   3  0.908443       0  \n",
       "2255                   4  0.906564       0  \n",
       "\n",
       "[1222 rows x 15 columns]"
      ]
     },
     "execution_count": 15,
     "metadata": {},
     "output_type": "execute_result"
    }
   ],
   "source": [
    "df"
   ]
  },
  {
   "cell_type": "markdown",
   "metadata": {},
   "source": [
    "Splitting data into train, valid, and test"
   ]
  },
  {
   "cell_type": "code",
   "execution_count": 16,
   "metadata": {},
   "outputs": [],
   "source": [
    "train_size = int(0.8 * len(df))\n",
    "valid_size = int(0.1 * len(df))\n",
    "train_df = df.iloc[:train_size, :]\n",
    "valid_df = df.iloc[train_size:(train_size + valid_size), :]\n",
    "test_df = df.iloc[(train_size + valid_size):, :]"
   ]
  },
  {
   "cell_type": "markdown",
   "metadata": {},
   "source": [
    "Checking for imbalance"
   ]
  },
  {
   "cell_type": "code",
   "execution_count": 17,
   "metadata": {},
   "outputs": [
    {
     "name": "stdout",
     "output_type": "stream",
     "text": [
      "target\n",
      "0    0.503582\n",
      "1    0.496418\n",
      "Name: proportion, dtype: float64 target\n",
      "0    0.5\n",
      "1    0.5\n",
      "Name: proportion, dtype: float64 target\n",
      "1    0.552846\n",
      "0    0.447154\n",
      "Name: proportion, dtype: float64\n"
     ]
    }
   ],
   "source": [
    "print(train_df['target'].value_counts(normalize=True),\n",
    "valid_df['target'].value_counts(normalize=True),\n",
    "test_df['target'].value_counts(normalize=True))"
   ]
  },
  {
   "cell_type": "markdown",
   "metadata": {},
   "source": [
    "Exporting into csv"
   ]
  },
  {
   "cell_type": "code",
   "execution_count": 18,
   "metadata": {},
   "outputs": [],
   "source": [
    "train_df.to_csv(\"../datasets/train_dataset.csv\", index=False)\n",
    "valid_df.to_csv(\"../datasets/valid_dataset.csv\", index=False)\n",
    "test_df.to_csv(\"../datasets/test_dataset.csv\", index=False)"
   ]
  }
 ],
 "metadata": {
  "kernelspec": {
   "display_name": "ml",
   "language": "python",
   "name": "python3"
  },
  "language_info": {
   "codemirror_mode": {
    "name": "ipython",
    "version": 3
   },
   "file_extension": ".py",
   "mimetype": "text/x-python",
   "name": "python",
   "nbconvert_exporter": "python",
   "pygments_lexer": "ipython3",
   "version": "3.11.7"
  }
 },
 "nbformat": 4,
 "nbformat_minor": 2
}
