{
 "cells": [
  {
   "cell_type": "markdown",
   "metadata": {},
   "source": [
    "# Imports"
   ]
  },
  {
   "cell_type": "code",
   "execution_count": 85,
   "metadata": {},
   "outputs": [],
   "source": [
    "import pandas as pd\n",
    "from sklearn.model_selection import train_test_split \n",
    "from torch.utils.data import DataLoader\n",
    "from sklearn.preprocessing import RobustScaler, MinMaxScaler"
   ]
  },
  {
   "cell_type": "markdown",
   "metadata": {},
   "source": [
    "# Loading data"
   ]
  },
  {
   "cell_type": "code",
   "execution_count": 86,
   "metadata": {},
   "outputs": [
    {
     "data": {
      "text/html": [
       "<div>\n",
       "<style scoped>\n",
       "    .dataframe tbody tr th:only-of-type {\n",
       "        vertical-align: middle;\n",
       "    }\n",
       "\n",
       "    .dataframe tbody tr th {\n",
       "        vertical-align: top;\n",
       "    }\n",
       "\n",
       "    .dataframe thead th {\n",
       "        text-align: right;\n",
       "    }\n",
       "</style>\n",
       "<table border=\"1\" class=\"dataframe\">\n",
       "  <thead>\n",
       "    <tr style=\"text-align: right;\">\n",
       "      <th></th>\n",
       "      <th>Date</th>\n",
       "      <th>open</th>\n",
       "      <th>high</th>\n",
       "      <th>low</th>\n",
       "      <th>close</th>\n",
       "      <th>close t-3</th>\n",
       "      <th>close t-5</th>\n",
       "      <th>close t-7</th>\n",
       "      <th>close t-12</th>\n",
       "      <th>close t-30</th>\n",
       "      <th>...</th>\n",
       "      <th>close t+12</th>\n",
       "      <th>close t+30</th>\n",
       "      <th>volume</th>\n",
       "      <th>stoch_k</th>\n",
       "      <th>stoch_k_smooth</th>\n",
       "      <th>stoch_d</th>\n",
       "      <th>ma_5</th>\n",
       "      <th>ma_13</th>\n",
       "      <th>fng_value</th>\n",
       "      <th>fng_classification</th>\n",
       "    </tr>\n",
       "  </thead>\n",
       "  <tbody>\n",
       "    <tr>\n",
       "      <th>0</th>\n",
       "      <td>2018-02-01</td>\n",
       "      <td>10237.299805</td>\n",
       "      <td>10288.799805</td>\n",
       "      <td>8812.280273</td>\n",
       "      <td>9170.540039</td>\n",
       "      <td>NaN</td>\n",
       "      <td>NaN</td>\n",
       "      <td>NaN</td>\n",
       "      <td>NaN</td>\n",
       "      <td>NaN</td>\n",
       "      <td>...</td>\n",
       "      <td>8598.309570</td>\n",
       "      <td>11489.700195</td>\n",
       "      <td>9959400448</td>\n",
       "      <td>11.098439</td>\n",
       "      <td>11.401036</td>\n",
       "      <td>27.762554</td>\n",
       "      <td>10516.127930</td>\n",
       "      <td>11085.433969</td>\n",
       "      <td>30.0</td>\n",
       "      <td>Fear</td>\n",
       "    </tr>\n",
       "    <tr>\n",
       "      <th>1</th>\n",
       "      <td>2018-02-02</td>\n",
       "      <td>9142.280273</td>\n",
       "      <td>9142.280273</td>\n",
       "      <td>7796.490234</td>\n",
       "      <td>8830.750000</td>\n",
       "      <td>NaN</td>\n",
       "      <td>NaN</td>\n",
       "      <td>NaN</td>\n",
       "      <td>NaN</td>\n",
       "      <td>NaN</td>\n",
       "      <td>...</td>\n",
       "      <td>9494.629883</td>\n",
       "      <td>11512.599609</td>\n",
       "      <td>12726899712</td>\n",
       "      <td>25.355039</td>\n",
       "      <td>18.686779</td>\n",
       "      <td>18.442888</td>\n",
       "      <td>9925.017969</td>\n",
       "      <td>10772.476262</td>\n",
       "      <td>15.0</td>\n",
       "      <td>Extreme Fear</td>\n",
       "    </tr>\n",
       "    <tr>\n",
       "      <th>2</th>\n",
       "      <td>2018-02-03</td>\n",
       "      <td>8852.120117</td>\n",
       "      <td>9430.750000</td>\n",
       "      <td>8251.629883</td>\n",
       "      <td>9174.910156</td>\n",
       "      <td>NaN</td>\n",
       "      <td>NaN</td>\n",
       "      <td>NaN</td>\n",
       "      <td>NaN</td>\n",
       "      <td>NaN</td>\n",
       "      <td>...</td>\n",
       "      <td>10166.400391</td>\n",
       "      <td>11573.299805</td>\n",
       "      <td>7263790080</td>\n",
       "      <td>39.263281</td>\n",
       "      <td>25.238920</td>\n",
       "      <td>18.442245</td>\n",
       "      <td>9500.719922</td>\n",
       "      <td>10585.923227</td>\n",
       "      <td>40.0</td>\n",
       "      <td>Fear</td>\n",
       "    </tr>\n",
       "  </tbody>\n",
       "</table>\n",
       "<p>3 rows × 23 columns</p>\n",
       "</div>"
      ],
      "text/plain": [
       "         Date          open          high          low        close  \\\n",
       "0  2018-02-01  10237.299805  10288.799805  8812.280273  9170.540039   \n",
       "1  2018-02-02   9142.280273   9142.280273  7796.490234  8830.750000   \n",
       "2  2018-02-03   8852.120117   9430.750000  8251.629883  9174.910156   \n",
       "\n",
       "   close t-3  close t-5  close t-7  close t-12  close t-30  ...    close t+12  \\\n",
       "0        NaN        NaN        NaN         NaN         NaN  ...   8598.309570   \n",
       "1        NaN        NaN        NaN         NaN         NaN  ...   9494.629883   \n",
       "2        NaN        NaN        NaN         NaN         NaN  ...  10166.400391   \n",
       "\n",
       "     close t+30       volume    stoch_k  stoch_k_smooth    stoch_d  \\\n",
       "0  11489.700195   9959400448  11.098439       11.401036  27.762554   \n",
       "1  11512.599609  12726899712  25.355039       18.686779  18.442888   \n",
       "2  11573.299805   7263790080  39.263281       25.238920  18.442245   \n",
       "\n",
       "           ma_5         ma_13   fng_value  fng_classification  \n",
       "0  10516.127930  11085.433969        30.0                Fear  \n",
       "1   9925.017969  10772.476262        15.0        Extreme Fear  \n",
       "2   9500.719922  10585.923227        40.0                Fear  \n",
       "\n",
       "[3 rows x 23 columns]"
      ]
     },
     "execution_count": 86,
     "metadata": {},
     "output_type": "execute_result"
    }
   ],
   "source": [
    "PATH = \"../datasets/final_data.csv\"\n",
    "df = pd.read_csv(PATH)\n",
    "df.head(3)"
   ]
  },
  {
   "cell_type": "code",
   "execution_count": 87,
   "metadata": {},
   "outputs": [],
   "source": [
    "# df = df.iloc[1034:]"
   ]
  },
  {
   "cell_type": "code",
   "execution_count": 88,
   "metadata": {},
   "outputs": [
    {
     "data": {
      "text/plain": [
       "2257"
      ]
     },
     "execution_count": 88,
     "metadata": {},
     "output_type": "execute_result"
    }
   ],
   "source": [
    "len(df)"
   ]
  },
  {
   "cell_type": "markdown",
   "metadata": {},
   "source": [
    "# Preparation for training and test data"
   ]
  },
  {
   "cell_type": "markdown",
   "metadata": {},
   "source": [
    "Check for balance\n",
    "The data is fairly balanced, seems we don't need to resample the data"
   ]
  },
  {
   "cell_type": "code",
   "execution_count": 89,
   "metadata": {},
   "outputs": [],
   "source": [
    "df['target'] = (df['close'].shift(-3) > df['close']).astype(int)"
   ]
  },
  {
   "cell_type": "code",
   "execution_count": 90,
   "metadata": {},
   "outputs": [
    {
     "data": {
      "text/plain": [
       "target\n",
       "1    0.525476\n",
       "0    0.474524\n",
       "Name: proportion, dtype: float64"
      ]
     },
     "execution_count": 90,
     "metadata": {},
     "output_type": "execute_result"
    }
   ],
   "source": [
    "df['target'].value_counts(normalize=True)"
   ]
  },
  {
   "cell_type": "markdown",
   "metadata": {},
   "source": [
    "Check for missing data"
   ]
  },
  {
   "cell_type": "code",
   "execution_count": 91,
   "metadata": {},
   "outputs": [
    {
     "data": {
      "text/plain": [
       "Date                   0\n",
       "open                   0\n",
       "high                   0\n",
       "low                    0\n",
       "close                  0\n",
       "close t-3              3\n",
       "close t-5              5\n",
       "close t-7              7\n",
       "close t-12            12\n",
       "close t-30            30\n",
       "close t+3              3\n",
       "close t+5              5\n",
       "close t+7              7\n",
       "close t+12            12\n",
       "close t+30            30\n",
       "volume                 0\n",
       "stoch_k                0\n",
       "stoch_k_smooth         0\n",
       "stoch_d                0\n",
       "ma_5                   0\n",
       "ma_13                  0\n",
       " fng_value             0\n",
       "fng_classification     0\n",
       "target                 0\n",
       "dtype: int64"
      ]
     },
     "execution_count": 91,
     "metadata": {},
     "output_type": "execute_result"
    }
   ],
   "source": [
    "df.isna().sum()"
   ]
  },
  {
   "cell_type": "markdown",
   "metadata": {},
   "source": [
    "dropping missing data"
   ]
  },
  {
   "cell_type": "code",
   "execution_count": 92,
   "metadata": {},
   "outputs": [
    {
     "data": {
      "text/plain": [
       "Date                  0\n",
       "open                  0\n",
       "high                  0\n",
       "low                   0\n",
       "close                 0\n",
       "close t-3             0\n",
       "close t-5             0\n",
       "close t-7             0\n",
       "close t-12            0\n",
       "close t-30            0\n",
       "close t+3             0\n",
       "close t+5             0\n",
       "close t+7             0\n",
       "close t+12            0\n",
       "close t+30            0\n",
       "volume                0\n",
       "stoch_k               0\n",
       "stoch_k_smooth        0\n",
       "stoch_d               0\n",
       "ma_5                  0\n",
       "ma_13                 0\n",
       " fng_value            0\n",
       "fng_classification    0\n",
       "target                0\n",
       "dtype: int64"
      ]
     },
     "execution_count": 92,
     "metadata": {},
     "output_type": "execute_result"
    }
   ],
   "source": [
    "df.dropna(inplace=True)\n",
    "df.isna().sum()"
   ]
  },
  {
   "cell_type": "markdown",
   "metadata": {},
   "source": [
    "Mapping data"
   ]
  },
  {
   "cell_type": "code",
   "execution_count": 93,
   "metadata": {},
   "outputs": [
    {
     "data": {
      "text/plain": [
       "array(['Greed', 'Fear', 'Extreme Fear', 'Neutral', 'Extreme Greed'],\n",
       "      dtype=object)"
      ]
     },
     "execution_count": 93,
     "metadata": {},
     "output_type": "execute_result"
    }
   ],
   "source": [
    "fng_classes = df['fng_classification'].unique()\n",
    "fng_classes"
   ]
  },
  {
   "cell_type": "code",
   "execution_count": 94,
   "metadata": {},
   "outputs": [],
   "source": [
    "df['fng_classification'] = df['fng_classification'].map({'Extreme Fear': 1, 'Fear': 2, 'Neutral': 3, 'Greed':4, 'Extreme Greed': 5})"
   ]
  },
  {
   "cell_type": "code",
   "execution_count": 95,
   "metadata": {},
   "outputs": [
    {
     "data": {
      "text/plain": [
       "30      4\n",
       "31      2\n",
       "32      4\n",
       "33      4\n",
       "34      2\n",
       "       ..\n",
       "2222    5\n",
       "2223    5\n",
       "2224    5\n",
       "2225    4\n",
       "2226    5\n",
       "Name: fng_classification, Length: 2197, dtype: int64"
      ]
     },
     "execution_count": 95,
     "metadata": {},
     "output_type": "execute_result"
    }
   ],
   "source": [
    "df['fng_classification']"
   ]
  },
  {
   "cell_type": "markdown",
   "metadata": {},
   "source": [
    "Scaling the data"
   ]
  },
  {
   "cell_type": "code",
   "execution_count": 96,
   "metadata": {},
   "outputs": [
    {
     "data": {
      "text/plain": [
       "array(['Date', 'open', 'high', 'low', 'close', 'close t-3', 'close t-5',\n",
       "       'close t-7', 'close t-12', 'close t-30', 'close t+3', 'close t+5',\n",
       "       'close t+7', 'close t+12', 'close t+30', 'volume', 'stoch_k',\n",
       "       'stoch_k_smooth', 'stoch_d', 'ma_5', 'ma_13', ' fng_value',\n",
       "       'fng_classification', 'target'], dtype=object)"
      ]
     },
     "execution_count": 96,
     "metadata": {},
     "output_type": "execute_result"
    }
   ],
   "source": [
    "df.columns.values"
   ]
  },
  {
   "cell_type": "code",
   "execution_count": 97,
   "metadata": {},
   "outputs": [],
   "source": [
    "columns_to_scale = ['open', 'high', 'low', 'close', 'close t-3', 'close t-5',\n",
    "                     'close t-7','close t-12', 'close t-30', 'close t+3', 'close t+5', 'close t+7',\n",
    "                     'close t+12', 'close t+30',\n",
    "                     'volume', 'stoch_k', 'stoch_k_smooth', 'stoch_d', 'ma_5', 'ma_13',\n",
    "                     ' fng_value']"
   ]
  },
  {
   "cell_type": "code",
   "execution_count": 98,
   "metadata": {},
   "outputs": [
    {
     "data": {
      "text/html": [
       "<style>#sk-container-id-5 {color: black;}#sk-container-id-5 pre{padding: 0;}#sk-container-id-5 div.sk-toggleable {background-color: white;}#sk-container-id-5 label.sk-toggleable__label {cursor: pointer;display: block;width: 100%;margin-bottom: 0;padding: 0.3em;box-sizing: border-box;text-align: center;}#sk-container-id-5 label.sk-toggleable__label-arrow:before {content: \"▸\";float: left;margin-right: 0.25em;color: #696969;}#sk-container-id-5 label.sk-toggleable__label-arrow:hover:before {color: black;}#sk-container-id-5 div.sk-estimator:hover label.sk-toggleable__label-arrow:before {color: black;}#sk-container-id-5 div.sk-toggleable__content {max-height: 0;max-width: 0;overflow: hidden;text-align: left;background-color: #f0f8ff;}#sk-container-id-5 div.sk-toggleable__content pre {margin: 0.2em;color: black;border-radius: 0.25em;background-color: #f0f8ff;}#sk-container-id-5 input.sk-toggleable__control:checked~div.sk-toggleable__content {max-height: 200px;max-width: 100%;overflow: auto;}#sk-container-id-5 input.sk-toggleable__control:checked~label.sk-toggleable__label-arrow:before {content: \"▾\";}#sk-container-id-5 div.sk-estimator input.sk-toggleable__control:checked~label.sk-toggleable__label {background-color: #d4ebff;}#sk-container-id-5 div.sk-label input.sk-toggleable__control:checked~label.sk-toggleable__label {background-color: #d4ebff;}#sk-container-id-5 input.sk-hidden--visually {border: 0;clip: rect(1px 1px 1px 1px);clip: rect(1px, 1px, 1px, 1px);height: 1px;margin: -1px;overflow: hidden;padding: 0;position: absolute;width: 1px;}#sk-container-id-5 div.sk-estimator {font-family: monospace;background-color: #f0f8ff;border: 1px dotted black;border-radius: 0.25em;box-sizing: border-box;margin-bottom: 0.5em;}#sk-container-id-5 div.sk-estimator:hover {background-color: #d4ebff;}#sk-container-id-5 div.sk-parallel-item::after {content: \"\";width: 100%;border-bottom: 1px solid gray;flex-grow: 1;}#sk-container-id-5 div.sk-label:hover label.sk-toggleable__label {background-color: #d4ebff;}#sk-container-id-5 div.sk-serial::before {content: \"\";position: absolute;border-left: 1px solid gray;box-sizing: border-box;top: 0;bottom: 0;left: 50%;z-index: 0;}#sk-container-id-5 div.sk-serial {display: flex;flex-direction: column;align-items: center;background-color: white;padding-right: 0.2em;padding-left: 0.2em;position: relative;}#sk-container-id-5 div.sk-item {position: relative;z-index: 1;}#sk-container-id-5 div.sk-parallel {display: flex;align-items: stretch;justify-content: center;background-color: white;position: relative;}#sk-container-id-5 div.sk-item::before, #sk-container-id-5 div.sk-parallel-item::before {content: \"\";position: absolute;border-left: 1px solid gray;box-sizing: border-box;top: 0;bottom: 0;left: 50%;z-index: -1;}#sk-container-id-5 div.sk-parallel-item {display: flex;flex-direction: column;z-index: 1;position: relative;background-color: white;}#sk-container-id-5 div.sk-parallel-item:first-child::after {align-self: flex-end;width: 50%;}#sk-container-id-5 div.sk-parallel-item:last-child::after {align-self: flex-start;width: 50%;}#sk-container-id-5 div.sk-parallel-item:only-child::after {width: 0;}#sk-container-id-5 div.sk-dashed-wrapped {border: 1px dashed gray;margin: 0 0.4em 0.5em 0.4em;box-sizing: border-box;padding-bottom: 0.4em;background-color: white;}#sk-container-id-5 div.sk-label label {font-family: monospace;font-weight: bold;display: inline-block;line-height: 1.2em;}#sk-container-id-5 div.sk-label-container {text-align: center;}#sk-container-id-5 div.sk-container {/* jupyter's `normalize.less` sets `[hidden] { display: none; }` but bootstrap.min.css set `[hidden] { display: none !important; }` so we also need the `!important` here to be able to override the default hidden behavior on the sphinx rendered scikit-learn.org. See: https://github.com/scikit-learn/scikit-learn/issues/21755 */display: inline-block !important;position: relative;}#sk-container-id-5 div.sk-text-repr-fallback {display: none;}</style><div id=\"sk-container-id-5\" class=\"sk-top-container\"><div class=\"sk-text-repr-fallback\"><pre>MinMaxScaler()</pre><b>In a Jupyter environment, please rerun this cell to show the HTML representation or trust the notebook. <br />On GitHub, the HTML representation is unable to render, please try loading this page with nbviewer.org.</b></div><div class=\"sk-container\" hidden><div class=\"sk-item\"><div class=\"sk-estimator sk-toggleable\"><input class=\"sk-toggleable__control sk-hidden--visually\" id=\"sk-estimator-id-5\" type=\"checkbox\" checked><label for=\"sk-estimator-id-5\" class=\"sk-toggleable__label sk-toggleable__label-arrow\">MinMaxScaler</label><div class=\"sk-toggleable__content\"><pre>MinMaxScaler()</pre></div></div></div></div></div>"
      ],
      "text/plain": [
       "MinMaxScaler()"
      ]
     },
     "execution_count": 98,
     "metadata": {},
     "output_type": "execute_result"
    }
   ],
   "source": [
    "scaler = MinMaxScaler()\n",
    "scaler.fit(df[columns_to_scale])"
   ]
  },
  {
   "cell_type": "code",
   "execution_count": 99,
   "metadata": {},
   "outputs": [],
   "source": [
    "scaled_data = scaler.transform(df[columns_to_scale])\n",
    "df[columns_to_scale] = scaled_data"
   ]
  },
  {
   "cell_type": "code",
   "execution_count": 100,
   "metadata": {},
   "outputs": [
    {
     "data": {
      "text/html": [
       "<div>\n",
       "<style scoped>\n",
       "    .dataframe tbody tr th:only-of-type {\n",
       "        vertical-align: middle;\n",
       "    }\n",
       "\n",
       "    .dataframe tbody tr th {\n",
       "        vertical-align: top;\n",
       "    }\n",
       "\n",
       "    .dataframe thead th {\n",
       "        text-align: right;\n",
       "    }\n",
       "</style>\n",
       "<table border=\"1\" class=\"dataframe\">\n",
       "  <thead>\n",
       "    <tr style=\"text-align: right;\">\n",
       "      <th></th>\n",
       "      <th>Date</th>\n",
       "      <th>open</th>\n",
       "      <th>high</th>\n",
       "      <th>low</th>\n",
       "      <th>close</th>\n",
       "      <th>close t-3</th>\n",
       "      <th>close t-5</th>\n",
       "      <th>close t-7</th>\n",
       "      <th>close t-12</th>\n",
       "      <th>close t-30</th>\n",
       "      <th>...</th>\n",
       "      <th>close t+30</th>\n",
       "      <th>volume</th>\n",
       "      <th>stoch_k</th>\n",
       "      <th>stoch_k_smooth</th>\n",
       "      <th>stoch_d</th>\n",
       "      <th>ma_5</th>\n",
       "      <th>ma_13</th>\n",
       "      <th>fng_value</th>\n",
       "      <th>fng_classification</th>\n",
       "      <th>target</th>\n",
       "    </tr>\n",
       "  </thead>\n",
       "  <tbody>\n",
       "    <tr>\n",
       "      <th>30</th>\n",
       "      <td>2018-03-03</td>\n",
       "      <td>0.120815</td>\n",
       "      <td>0.125242</td>\n",
       "      <td>0.123611</td>\n",
       "      <td>0.126786</td>\n",
       "      <td>0.110013</td>\n",
       "      <td>0.110834</td>\n",
       "      <td>0.102228</td>\n",
       "      <td>0.124180</td>\n",
       "      <td>0.092240</td>\n",
       "      <td>...</td>\n",
       "      <td>0.055078</td>\n",
       "      <td>0.010823</td>\n",
       "      <td>0.969971</td>\n",
       "      <td>0.954253</td>\n",
       "      <td>0.870176</td>\n",
       "      <td>0.122131</td>\n",
       "      <td>0.118541</td>\n",
       "      <td>0.566667</td>\n",
       "      <td>4</td>\n",
       "      <td>0</td>\n",
       "    </tr>\n",
       "    <tr>\n",
       "      <th>31</th>\n",
       "      <td>2018-03-04</td>\n",
       "      <td>0.126890</td>\n",
       "      <td>0.125005</td>\n",
       "      <td>0.125727</td>\n",
       "      <td>0.127137</td>\n",
       "      <td>0.118510</td>\n",
       "      <td>0.116413</td>\n",
       "      <td>0.099922</td>\n",
       "      <td>0.126954</td>\n",
       "      <td>0.086958</td>\n",
       "      <td>...</td>\n",
       "      <td>0.060409</td>\n",
       "      <td>0.009081</td>\n",
       "      <td>0.986729</td>\n",
       "      <td>0.978202</td>\n",
       "      <td>0.928659</td>\n",
       "      <td>0.124652</td>\n",
       "      <td>0.118906</td>\n",
       "      <td>0.433333</td>\n",
       "      <td>2</td>\n",
       "      <td>0</td>\n",
       "    </tr>\n",
       "    <tr>\n",
       "      <th>32</th>\n",
       "      <td>2018-03-05</td>\n",
       "      <td>0.127427</td>\n",
       "      <td>0.127911</td>\n",
       "      <td>0.130598</td>\n",
       "      <td>0.128070</td>\n",
       "      <td>0.120590</td>\n",
       "      <td>0.111319</td>\n",
       "      <td>0.110834</td>\n",
       "      <td>0.115866</td>\n",
       "      <td>0.092308</td>\n",
       "      <td>...</td>\n",
       "      <td>0.051786</td>\n",
       "      <td>0.010185</td>\n",
       "      <td>0.903212</td>\n",
       "      <td>0.965752</td>\n",
       "      <td>0.977770</td>\n",
       "      <td>0.128418</td>\n",
       "      <td>0.119121</td>\n",
       "      <td>0.555556</td>\n",
       "      <td>4</td>\n",
       "      <td>0</td>\n",
       "    </tr>\n",
       "    <tr>\n",
       "      <th>33</th>\n",
       "      <td>2018-03-06</td>\n",
       "      <td>0.126931</td>\n",
       "      <td>0.124815</td>\n",
       "      <td>0.118736</td>\n",
       "      <td>0.115881</td>\n",
       "      <td>0.126786</td>\n",
       "      <td>0.119917</td>\n",
       "      <td>0.116413</td>\n",
       "      <td>0.105211</td>\n",
       "      <td>0.078350</td>\n",
       "      <td>...</td>\n",
       "      <td>0.051179</td>\n",
       "      <td>0.011230</td>\n",
       "      <td>0.084770</td>\n",
       "      <td>0.659448</td>\n",
       "      <td>0.876798</td>\n",
       "      <td>0.127870</td>\n",
       "      <td>0.119235</td>\n",
       "      <td>0.600000</td>\n",
       "      <td>4</td>\n",
       "      <td>0</td>\n",
       "    </tr>\n",
       "    <tr>\n",
       "      <th>34</th>\n",
       "      <td>2018-03-07</td>\n",
       "      <td>0.116238</td>\n",
       "      <td>0.116156</td>\n",
       "      <td>0.102876</td>\n",
       "      <td>0.103371</td>\n",
       "      <td>0.127137</td>\n",
       "      <td>0.122021</td>\n",
       "      <td>0.111319</td>\n",
       "      <td>0.109814</td>\n",
       "      <td>0.057804</td>\n",
       "      <td>...</td>\n",
       "      <td>0.048672</td>\n",
       "      <td>0.016878</td>\n",
       "      <td>0.135911</td>\n",
       "      <td>0.365041</td>\n",
       "      <td>0.666787</td>\n",
       "      <td>0.124279</td>\n",
       "      <td>0.119185</td>\n",
       "      <td>0.355556</td>\n",
       "      <td>2</td>\n",
       "      <td>0</td>\n",
       "    </tr>\n",
       "    <tr>\n",
       "      <th>...</th>\n",
       "      <td>...</td>\n",
       "      <td>...</td>\n",
       "      <td>...</td>\n",
       "      <td>...</td>\n",
       "      <td>...</td>\n",
       "      <td>...</td>\n",
       "      <td>...</td>\n",
       "      <td>...</td>\n",
       "      <td>...</td>\n",
       "      <td>...</td>\n",
       "      <td>...</td>\n",
       "      <td>...</td>\n",
       "      <td>...</td>\n",
       "      <td>...</td>\n",
       "      <td>...</td>\n",
       "      <td>...</td>\n",
       "      <td>...</td>\n",
       "      <td>...</td>\n",
       "      <td>...</td>\n",
       "      <td>...</td>\n",
       "      <td>...</td>\n",
       "    </tr>\n",
       "    <tr>\n",
       "      <th>2222</th>\n",
       "      <td>2024-03-03</td>\n",
       "      <td>0.903087</td>\n",
       "      <td>0.909851</td>\n",
       "      <td>0.921713</td>\n",
       "      <td>0.920683</td>\n",
       "      <td>0.890434</td>\n",
       "      <td>0.837068</td>\n",
       "      <td>0.753870</td>\n",
       "      <td>0.762445</td>\n",
       "      <td>0.621002</td>\n",
       "      <td>...</td>\n",
       "      <td>0.890667</td>\n",
       "      <td>0.067032</td>\n",
       "      <td>0.896057</td>\n",
       "      <td>0.869897</td>\n",
       "      <td>0.865171</td>\n",
       "      <td>0.944574</td>\n",
       "      <td>0.872909</td>\n",
       "      <td>0.866667</td>\n",
       "      <td>5</td>\n",
       "      <td>1</td>\n",
       "    </tr>\n",
       "    <tr>\n",
       "      <th>2223</th>\n",
       "      <td>2024-03-04</td>\n",
       "      <td>0.920067</td>\n",
       "      <td>0.990385</td>\n",
       "      <td>0.936770</td>\n",
       "      <td>1.000000</td>\n",
       "      <td>0.909518</td>\n",
       "      <td>0.921311</td>\n",
       "      <td>0.797227</td>\n",
       "      <td>0.755516</td>\n",
       "      <td>0.617992</td>\n",
       "      <td>...</td>\n",
       "      <td>0.898310</td>\n",
       "      <td>0.194650</td>\n",
       "      <td>0.974296</td>\n",
       "      <td>0.900251</td>\n",
       "      <td>0.876884</td>\n",
       "      <td>0.963240</td>\n",
       "      <td>0.893277</td>\n",
       "      <td>0.855556</td>\n",
       "      <td>5</td>\n",
       "      <td>0</td>\n",
       "    </tr>\n",
       "    <tr>\n",
       "      <th>2224</th>\n",
       "      <td>2024-03-05</td>\n",
       "      <td>1.000000</td>\n",
       "      <td>1.000000</td>\n",
       "      <td>0.888304</td>\n",
       "      <td>0.930420</td>\n",
       "      <td>0.903208</td>\n",
       "      <td>0.901004</td>\n",
       "      <td>0.837068</td>\n",
       "      <td>0.747212</td>\n",
       "      <td>0.611640</td>\n",
       "      <td>...</td>\n",
       "      <td>0.934504</td>\n",
       "      <td>0.286973</td>\n",
       "      <td>0.454699</td>\n",
       "      <td>0.780676</td>\n",
       "      <td>0.858790</td>\n",
       "      <td>0.971579</td>\n",
       "      <td>0.908461</td>\n",
       "      <td>0.944444</td>\n",
       "      <td>5</td>\n",
       "      <td>1</td>\n",
       "    </tr>\n",
       "    <tr>\n",
       "      <th>2225</th>\n",
       "      <td>2024-03-06</td>\n",
       "      <td>0.929882</td>\n",
       "      <td>0.976740</td>\n",
       "      <td>0.944084</td>\n",
       "      <td>0.965840</td>\n",
       "      <td>0.920683</td>\n",
       "      <td>0.920314</td>\n",
       "      <td>0.921311</td>\n",
       "      <td>0.738305</td>\n",
       "      <td>0.612807</td>\n",
       "      <td>...</td>\n",
       "      <td>0.924895</td>\n",
       "      <td>0.189133</td>\n",
       "      <td>0.688848</td>\n",
       "      <td>0.708976</td>\n",
       "      <td>0.803673</td>\n",
       "      <td>0.983326</td>\n",
       "      <td>0.927250</td>\n",
       "      <td>0.777778</td>\n",
       "      <td>4</td>\n",
       "      <td>1</td>\n",
       "    </tr>\n",
       "    <tr>\n",
       "      <th>2226</th>\n",
       "      <td>2024-03-07</td>\n",
       "      <td>0.965574</td>\n",
       "      <td>0.982689</td>\n",
       "      <td>0.988503</td>\n",
       "      <td>0.978417</td>\n",
       "      <td>1.000000</td>\n",
       "      <td>0.913929</td>\n",
       "      <td>0.901004</td>\n",
       "      <td>0.751349</td>\n",
       "      <td>0.619429</td>\n",
       "      <td>...</td>\n",
       "      <td>0.940049</td>\n",
       "      <td>0.126610</td>\n",
       "      <td>0.771991</td>\n",
       "      <td>0.638973</td>\n",
       "      <td>0.714184</td>\n",
       "      <td>0.999012</td>\n",
       "      <td>0.947805</td>\n",
       "      <td>0.855556</td>\n",
       "      <td>5</td>\n",
       "      <td>1</td>\n",
       "    </tr>\n",
       "  </tbody>\n",
       "</table>\n",
       "<p>2197 rows × 24 columns</p>\n",
       "</div>"
      ],
      "text/plain": [
       "            Date      open      high       low     close  close t-3  \\\n",
       "30    2018-03-03  0.120815  0.125242  0.123611  0.126786   0.110013   \n",
       "31    2018-03-04  0.126890  0.125005  0.125727  0.127137   0.118510   \n",
       "32    2018-03-05  0.127427  0.127911  0.130598  0.128070   0.120590   \n",
       "33    2018-03-06  0.126931  0.124815  0.118736  0.115881   0.126786   \n",
       "34    2018-03-07  0.116238  0.116156  0.102876  0.103371   0.127137   \n",
       "...          ...       ...       ...       ...       ...        ...   \n",
       "2222  2024-03-03  0.903087  0.909851  0.921713  0.920683   0.890434   \n",
       "2223  2024-03-04  0.920067  0.990385  0.936770  1.000000   0.909518   \n",
       "2224  2024-03-05  1.000000  1.000000  0.888304  0.930420   0.903208   \n",
       "2225  2024-03-06  0.929882  0.976740  0.944084  0.965840   0.920683   \n",
       "2226  2024-03-07  0.965574  0.982689  0.988503  0.978417   1.000000   \n",
       "\n",
       "      close t-5  close t-7  close t-12  close t-30  ...  close t+30    volume  \\\n",
       "30     0.110834   0.102228    0.124180    0.092240  ...    0.055078  0.010823   \n",
       "31     0.116413   0.099922    0.126954    0.086958  ...    0.060409  0.009081   \n",
       "32     0.111319   0.110834    0.115866    0.092308  ...    0.051786  0.010185   \n",
       "33     0.119917   0.116413    0.105211    0.078350  ...    0.051179  0.011230   \n",
       "34     0.122021   0.111319    0.109814    0.057804  ...    0.048672  0.016878   \n",
       "...         ...        ...         ...         ...  ...         ...       ...   \n",
       "2222   0.837068   0.753870    0.762445    0.621002  ...    0.890667  0.067032   \n",
       "2223   0.921311   0.797227    0.755516    0.617992  ...    0.898310  0.194650   \n",
       "2224   0.901004   0.837068    0.747212    0.611640  ...    0.934504  0.286973   \n",
       "2225   0.920314   0.921311    0.738305    0.612807  ...    0.924895  0.189133   \n",
       "2226   0.913929   0.901004    0.751349    0.619429  ...    0.940049  0.126610   \n",
       "\n",
       "       stoch_k  stoch_k_smooth   stoch_d      ma_5     ma_13   fng_value  \\\n",
       "30    0.969971        0.954253  0.870176  0.122131  0.118541    0.566667   \n",
       "31    0.986729        0.978202  0.928659  0.124652  0.118906    0.433333   \n",
       "32    0.903212        0.965752  0.977770  0.128418  0.119121    0.555556   \n",
       "33    0.084770        0.659448  0.876798  0.127870  0.119235    0.600000   \n",
       "34    0.135911        0.365041  0.666787  0.124279  0.119185    0.355556   \n",
       "...        ...             ...       ...       ...       ...         ...   \n",
       "2222  0.896057        0.869897  0.865171  0.944574  0.872909    0.866667   \n",
       "2223  0.974296        0.900251  0.876884  0.963240  0.893277    0.855556   \n",
       "2224  0.454699        0.780676  0.858790  0.971579  0.908461    0.944444   \n",
       "2225  0.688848        0.708976  0.803673  0.983326  0.927250    0.777778   \n",
       "2226  0.771991        0.638973  0.714184  0.999012  0.947805    0.855556   \n",
       "\n",
       "      fng_classification  target  \n",
       "30                     4       0  \n",
       "31                     2       0  \n",
       "32                     4       0  \n",
       "33                     4       0  \n",
       "34                     2       0  \n",
       "...                  ...     ...  \n",
       "2222                   5       1  \n",
       "2223                   5       0  \n",
       "2224                   5       1  \n",
       "2225                   4       1  \n",
       "2226                   5       1  \n",
       "\n",
       "[2197 rows x 24 columns]"
      ]
     },
     "execution_count": 100,
     "metadata": {},
     "output_type": "execute_result"
    }
   ],
   "source": [
    "df"
   ]
  },
  {
   "cell_type": "markdown",
   "metadata": {},
   "source": [
    "Splitting data into train, valid, and test"
   ]
  },
  {
   "cell_type": "code",
   "execution_count": 101,
   "metadata": {},
   "outputs": [],
   "source": [
    "train_size = int(0.8 * len(df))\n",
    "valid_size = int(0.1 * len(df))\n",
    "train_df = df.iloc[:train_size, :]\n",
    "valid_df = df.iloc[train_size:(train_size + valid_size), :]\n",
    "test_df = df.iloc[(train_size + valid_size):, :]"
   ]
  },
  {
   "cell_type": "markdown",
   "metadata": {},
   "source": [
    "Checking for imbalance"
   ]
  },
  {
   "cell_type": "code",
   "execution_count": 102,
   "metadata": {},
   "outputs": [
    {
     "name": "stdout",
     "output_type": "stream",
     "text": [
      "target\n",
      "1    0.515083\n",
      "0    0.484917\n",
      "Name: proportion, dtype: float64 target\n",
      "1    0.511416\n",
      "0    0.488584\n",
      "Name: proportion, dtype: float64 target\n",
      "1    0.615385\n",
      "0    0.384615\n",
      "Name: proportion, dtype: float64\n"
     ]
    }
   ],
   "source": [
    "print(train_df['target'].value_counts(normalize=True),\n",
    "valid_df['target'].value_counts(normalize=True),\n",
    "test_df['target'].value_counts(normalize=True))"
   ]
  },
  {
   "cell_type": "markdown",
   "metadata": {},
   "source": [
    "Exporting into csv"
   ]
  },
  {
   "cell_type": "code",
   "execution_count": 103,
   "metadata": {},
   "outputs": [],
   "source": [
    "train_df.to_csv(\"../datasets/train_dataset.csv\", index=False)\n",
    "valid_df.to_csv(\"../datasets/valid_dataset.csv\", index=False)\n",
    "test_df.to_csv(\"../datasets/test_dataset.csv\", index=False)"
   ]
  }
 ],
 "metadata": {
  "kernelspec": {
   "display_name": "ml",
   "language": "python",
   "name": "python3"
  },
  "language_info": {
   "codemirror_mode": {
    "name": "ipython",
    "version": 3
   },
   "file_extension": ".py",
   "mimetype": "text/x-python",
   "name": "python",
   "nbconvert_exporter": "python",
   "pygments_lexer": "ipython3",
   "version": "3.11.7"
  }
 },
 "nbformat": 4,
 "nbformat_minor": 2
}
