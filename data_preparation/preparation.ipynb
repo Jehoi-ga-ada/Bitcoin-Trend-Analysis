{
 "cells": [
  {
   "cell_type": "markdown",
   "metadata": {},
   "source": [
    "# Imports"
   ]
  },
  {
   "cell_type": "code",
   "execution_count": 1,
   "metadata": {},
   "outputs": [],
   "source": [
    "import pandas as pd\n",
    "from sklearn.model_selection import train_test_split \n",
    "from torch.utils.data import DataLoader\n",
    "from sklearn.preprocessing import MinMaxScaler"
   ]
  },
  {
   "cell_type": "markdown",
   "metadata": {},
   "source": [
    "# Loading data"
   ]
  },
  {
   "cell_type": "code",
   "execution_count": 2,
   "metadata": {},
   "outputs": [
    {
     "data": {
      "text/html": [
       "<div>\n",
       "<style scoped>\n",
       "    .dataframe tbody tr th:only-of-type {\n",
       "        vertical-align: middle;\n",
       "    }\n",
       "\n",
       "    .dataframe tbody tr th {\n",
       "        vertical-align: top;\n",
       "    }\n",
       "\n",
       "    .dataframe thead th {\n",
       "        text-align: right;\n",
       "    }\n",
       "</style>\n",
       "<table border=\"1\" class=\"dataframe\">\n",
       "  <thead>\n",
       "    <tr style=\"text-align: right;\">\n",
       "      <th></th>\n",
       "      <th>Date</th>\n",
       "      <th>open</th>\n",
       "      <th>high</th>\n",
       "      <th>low</th>\n",
       "      <th>close</th>\n",
       "      <th>volume</th>\n",
       "      <th>stoch_k</th>\n",
       "      <th>stoch_k_smooth</th>\n",
       "      <th>stoch_d</th>\n",
       "      <th>ma_5</th>\n",
       "      <th>ma_13</th>\n",
       "      <th>fng_value</th>\n",
       "      <th>fng_classification</th>\n",
       "      <th>tomorrow</th>\n",
       "      <th>target</th>\n",
       "    </tr>\n",
       "  </thead>\n",
       "  <tbody>\n",
       "    <tr>\n",
       "      <th>0</th>\n",
       "      <td>2018-02-01</td>\n",
       "      <td>10237.299805</td>\n",
       "      <td>10288.799805</td>\n",
       "      <td>8812.280273</td>\n",
       "      <td>9170.540039</td>\n",
       "      <td>9959400448</td>\n",
       "      <td>11.098439</td>\n",
       "      <td>11.401036</td>\n",
       "      <td>27.762554</td>\n",
       "      <td>10516.127930</td>\n",
       "      <td>11085.433969</td>\n",
       "      <td>30.0</td>\n",
       "      <td>Fear</td>\n",
       "      <td>8830.750000</td>\n",
       "      <td>0</td>\n",
       "    </tr>\n",
       "    <tr>\n",
       "      <th>1</th>\n",
       "      <td>2018-02-02</td>\n",
       "      <td>9142.280273</td>\n",
       "      <td>9142.280273</td>\n",
       "      <td>7796.490234</td>\n",
       "      <td>8830.750000</td>\n",
       "      <td>12726899712</td>\n",
       "      <td>25.355039</td>\n",
       "      <td>18.686779</td>\n",
       "      <td>18.442888</td>\n",
       "      <td>9925.017969</td>\n",
       "      <td>10772.476262</td>\n",
       "      <td>15.0</td>\n",
       "      <td>Extreme Fear</td>\n",
       "      <td>9174.910156</td>\n",
       "      <td>1</td>\n",
       "    </tr>\n",
       "    <tr>\n",
       "      <th>2</th>\n",
       "      <td>2018-02-03</td>\n",
       "      <td>8852.120117</td>\n",
       "      <td>9430.750000</td>\n",
       "      <td>8251.629883</td>\n",
       "      <td>9174.910156</td>\n",
       "      <td>7263790080</td>\n",
       "      <td>39.263281</td>\n",
       "      <td>25.238920</td>\n",
       "      <td>18.442245</td>\n",
       "      <td>9500.719922</td>\n",
       "      <td>10585.923227</td>\n",
       "      <td>40.0</td>\n",
       "      <td>Fear</td>\n",
       "      <td>8277.009766</td>\n",
       "      <td>0</td>\n",
       "    </tr>\n",
       "  </tbody>\n",
       "</table>\n",
       "</div>"
      ],
      "text/plain": [
       "         Date          open          high          low        close  \\\n",
       "0  2018-02-01  10237.299805  10288.799805  8812.280273  9170.540039   \n",
       "1  2018-02-02   9142.280273   9142.280273  7796.490234  8830.750000   \n",
       "2  2018-02-03   8852.120117   9430.750000  8251.629883  9174.910156   \n",
       "\n",
       "        volume    stoch_k  stoch_k_smooth    stoch_d          ma_5  \\\n",
       "0   9959400448  11.098439       11.401036  27.762554  10516.127930   \n",
       "1  12726899712  25.355039       18.686779  18.442888   9925.017969   \n",
       "2   7263790080  39.263281       25.238920  18.442245   9500.719922   \n",
       "\n",
       "          ma_13   fng_value fng_classification     tomorrow  target  \n",
       "0  11085.433969        30.0               Fear  8830.750000       0  \n",
       "1  10772.476262        15.0       Extreme Fear  9174.910156       1  \n",
       "2  10585.923227        40.0               Fear  8277.009766       0  "
      ]
     },
     "execution_count": 2,
     "metadata": {},
     "output_type": "execute_result"
    }
   ],
   "source": [
    "PATH = \"../datasets/final_data.csv\"\n",
    "df = pd.read_csv(PATH)\n",
    "df.head(3)"
   ]
  },
  {
   "cell_type": "code",
   "execution_count": 3,
   "metadata": {},
   "outputs": [],
   "source": [
    "# df = df.iloc[1034:]"
   ]
  },
  {
   "cell_type": "code",
   "execution_count": 4,
   "metadata": {},
   "outputs": [
    {
     "data": {
      "text/plain": [
       "2257"
      ]
     },
     "execution_count": 4,
     "metadata": {},
     "output_type": "execute_result"
    }
   ],
   "source": [
    "len(df)"
   ]
  },
  {
   "cell_type": "markdown",
   "metadata": {},
   "source": [
    "# Preparation for training and test data"
   ]
  },
  {
   "cell_type": "markdown",
   "metadata": {},
   "source": [
    "Check for balance\n",
    "The data is fairly balanced, seems we don't need to resample the data"
   ]
  },
  {
   "cell_type": "code",
   "execution_count": 5,
   "metadata": {},
   "outputs": [
    {
     "data": {
      "text/plain": [
       "target\n",
       "1    0.513957\n",
       "0    0.486043\n",
       "Name: proportion, dtype: float64"
      ]
     },
     "execution_count": 5,
     "metadata": {},
     "output_type": "execute_result"
    }
   ],
   "source": [
    "df['target'].value_counts(normalize=True)"
   ]
  },
  {
   "cell_type": "markdown",
   "metadata": {},
   "source": [
    "Check for missing data"
   ]
  },
  {
   "cell_type": "code",
   "execution_count": 6,
   "metadata": {},
   "outputs": [
    {
     "data": {
      "text/plain": [
       "Date                  0\n",
       "open                  0\n",
       "high                  0\n",
       "low                   0\n",
       "close                 0\n",
       "volume                0\n",
       "stoch_k               0\n",
       "stoch_k_smooth        0\n",
       "stoch_d               0\n",
       "ma_5                  0\n",
       "ma_13                 0\n",
       " fng_value            0\n",
       "fng_classification    0\n",
       "tomorrow              1\n",
       "target                0\n",
       "dtype: int64"
      ]
     },
     "execution_count": 6,
     "metadata": {},
     "output_type": "execute_result"
    }
   ],
   "source": [
    "df.isna().sum()"
   ]
  },
  {
   "cell_type": "markdown",
   "metadata": {},
   "source": [
    "dropping missing data"
   ]
  },
  {
   "cell_type": "code",
   "execution_count": 7,
   "metadata": {},
   "outputs": [
    {
     "data": {
      "text/plain": [
       "Date                  0\n",
       "open                  0\n",
       "high                  0\n",
       "low                   0\n",
       "close                 0\n",
       "volume                0\n",
       "stoch_k               0\n",
       "stoch_k_smooth        0\n",
       "stoch_d               0\n",
       "ma_5                  0\n",
       "ma_13                 0\n",
       " fng_value            0\n",
       "fng_classification    0\n",
       "tomorrow              0\n",
       "target                0\n",
       "dtype: int64"
      ]
     },
     "execution_count": 7,
     "metadata": {},
     "output_type": "execute_result"
    }
   ],
   "source": [
    "df.dropna(inplace=True)\n",
    "df.isna().sum()"
   ]
  },
  {
   "cell_type": "markdown",
   "metadata": {},
   "source": [
    "Mapping data"
   ]
  },
  {
   "cell_type": "code",
   "execution_count": 8,
   "metadata": {},
   "outputs": [
    {
     "data": {
      "text/plain": [
       "array(['Fear', 'Extreme Fear', 'Neutral', 'Greed', 'Extreme Greed'],\n",
       "      dtype=object)"
      ]
     },
     "execution_count": 8,
     "metadata": {},
     "output_type": "execute_result"
    }
   ],
   "source": [
    "fng_classes = df['fng_classification'].unique()\n",
    "fng_classes"
   ]
  },
  {
   "cell_type": "code",
   "execution_count": 9,
   "metadata": {},
   "outputs": [],
   "source": [
    "df['fng_classification'] = df['fng_classification'].map({'Extreme Fear': 0, 'Fear': 1, 'Neutral': 2, 'Greed':3, 'Extreme Greed': 4})"
   ]
  },
  {
   "cell_type": "code",
   "execution_count": 10,
   "metadata": {},
   "outputs": [
    {
     "data": {
      "text/plain": [
       "0       1\n",
       "1       0\n",
       "2       1\n",
       "3       0\n",
       "4       0\n",
       "       ..\n",
       "2251    4\n",
       "2252    4\n",
       "2253    3\n",
       "2254    3\n",
       "2255    4\n",
       "Name: fng_classification, Length: 2256, dtype: int64"
      ]
     },
     "execution_count": 10,
     "metadata": {},
     "output_type": "execute_result"
    }
   ],
   "source": [
    "df['fng_classification']"
   ]
  },
  {
   "cell_type": "markdown",
   "metadata": {},
   "source": [
    "Scaling the data"
   ]
  },
  {
   "cell_type": "code",
   "execution_count": 11,
   "metadata": {},
   "outputs": [
    {
     "data": {
      "text/plain": [
       "array(['Date', 'open', 'high', 'low', 'close', 'volume', 'stoch_k',\n",
       "       'stoch_k_smooth', 'stoch_d', 'ma_5', 'ma_13', ' fng_value',\n",
       "       'fng_classification', 'tomorrow', 'target'], dtype=object)"
      ]
     },
     "execution_count": 11,
     "metadata": {},
     "output_type": "execute_result"
    }
   ],
   "source": [
    "df.columns.values"
   ]
  },
  {
   "cell_type": "code",
   "execution_count": 12,
   "metadata": {},
   "outputs": [],
   "source": [
    "columns_to_scale = ['open', 'high', 'low', 'close', 'volume', 'stoch_k', 'stoch_k_smooth', 'stoch_d', 'ma_5', 'ma_13', ' fng_value', 'tomorrow']"
   ]
  },
  {
   "cell_type": "code",
   "execution_count": 13,
   "metadata": {},
   "outputs": [
    {
     "data": {
      "text/html": [
       "<style>#sk-container-id-1 {color: black;}#sk-container-id-1 pre{padding: 0;}#sk-container-id-1 div.sk-toggleable {background-color: white;}#sk-container-id-1 label.sk-toggleable__label {cursor: pointer;display: block;width: 100%;margin-bottom: 0;padding: 0.3em;box-sizing: border-box;text-align: center;}#sk-container-id-1 label.sk-toggleable__label-arrow:before {content: \"▸\";float: left;margin-right: 0.25em;color: #696969;}#sk-container-id-1 label.sk-toggleable__label-arrow:hover:before {color: black;}#sk-container-id-1 div.sk-estimator:hover label.sk-toggleable__label-arrow:before {color: black;}#sk-container-id-1 div.sk-toggleable__content {max-height: 0;max-width: 0;overflow: hidden;text-align: left;background-color: #f0f8ff;}#sk-container-id-1 div.sk-toggleable__content pre {margin: 0.2em;color: black;border-radius: 0.25em;background-color: #f0f8ff;}#sk-container-id-1 input.sk-toggleable__control:checked~div.sk-toggleable__content {max-height: 200px;max-width: 100%;overflow: auto;}#sk-container-id-1 input.sk-toggleable__control:checked~label.sk-toggleable__label-arrow:before {content: \"▾\";}#sk-container-id-1 div.sk-estimator input.sk-toggleable__control:checked~label.sk-toggleable__label {background-color: #d4ebff;}#sk-container-id-1 div.sk-label input.sk-toggleable__control:checked~label.sk-toggleable__label {background-color: #d4ebff;}#sk-container-id-1 input.sk-hidden--visually {border: 0;clip: rect(1px 1px 1px 1px);clip: rect(1px, 1px, 1px, 1px);height: 1px;margin: -1px;overflow: hidden;padding: 0;position: absolute;width: 1px;}#sk-container-id-1 div.sk-estimator {font-family: monospace;background-color: #f0f8ff;border: 1px dotted black;border-radius: 0.25em;box-sizing: border-box;margin-bottom: 0.5em;}#sk-container-id-1 div.sk-estimator:hover {background-color: #d4ebff;}#sk-container-id-1 div.sk-parallel-item::after {content: \"\";width: 100%;border-bottom: 1px solid gray;flex-grow: 1;}#sk-container-id-1 div.sk-label:hover label.sk-toggleable__label {background-color: #d4ebff;}#sk-container-id-1 div.sk-serial::before {content: \"\";position: absolute;border-left: 1px solid gray;box-sizing: border-box;top: 0;bottom: 0;left: 50%;z-index: 0;}#sk-container-id-1 div.sk-serial {display: flex;flex-direction: column;align-items: center;background-color: white;padding-right: 0.2em;padding-left: 0.2em;position: relative;}#sk-container-id-1 div.sk-item {position: relative;z-index: 1;}#sk-container-id-1 div.sk-parallel {display: flex;align-items: stretch;justify-content: center;background-color: white;position: relative;}#sk-container-id-1 div.sk-item::before, #sk-container-id-1 div.sk-parallel-item::before {content: \"\";position: absolute;border-left: 1px solid gray;box-sizing: border-box;top: 0;bottom: 0;left: 50%;z-index: -1;}#sk-container-id-1 div.sk-parallel-item {display: flex;flex-direction: column;z-index: 1;position: relative;background-color: white;}#sk-container-id-1 div.sk-parallel-item:first-child::after {align-self: flex-end;width: 50%;}#sk-container-id-1 div.sk-parallel-item:last-child::after {align-self: flex-start;width: 50%;}#sk-container-id-1 div.sk-parallel-item:only-child::after {width: 0;}#sk-container-id-1 div.sk-dashed-wrapped {border: 1px dashed gray;margin: 0 0.4em 0.5em 0.4em;box-sizing: border-box;padding-bottom: 0.4em;background-color: white;}#sk-container-id-1 div.sk-label label {font-family: monospace;font-weight: bold;display: inline-block;line-height: 1.2em;}#sk-container-id-1 div.sk-label-container {text-align: center;}#sk-container-id-1 div.sk-container {/* jupyter's `normalize.less` sets `[hidden] { display: none; }` but bootstrap.min.css set `[hidden] { display: none !important; }` so we also need the `!important` here to be able to override the default hidden behavior on the sphinx rendered scikit-learn.org. See: https://github.com/scikit-learn/scikit-learn/issues/21755 */display: inline-block !important;position: relative;}#sk-container-id-1 div.sk-text-repr-fallback {display: none;}</style><div id=\"sk-container-id-1\" class=\"sk-top-container\"><div class=\"sk-text-repr-fallback\"><pre>MinMaxScaler()</pre><b>In a Jupyter environment, please rerun this cell to show the HTML representation or trust the notebook. <br />On GitHub, the HTML representation is unable to render, please try loading this page with nbviewer.org.</b></div><div class=\"sk-container\" hidden><div class=\"sk-item\"><div class=\"sk-estimator sk-toggleable\"><input class=\"sk-toggleable__control sk-hidden--visually\" id=\"sk-estimator-id-1\" type=\"checkbox\" checked><label for=\"sk-estimator-id-1\" class=\"sk-toggleable__label sk-toggleable__label-arrow\">MinMaxScaler</label><div class=\"sk-toggleable__content\"><pre>MinMaxScaler()</pre></div></div></div></div></div>"
      ],
      "text/plain": [
       "MinMaxScaler()"
      ]
     },
     "execution_count": 13,
     "metadata": {},
     "output_type": "execute_result"
    }
   ],
   "source": [
    "scaler = MinMaxScaler()\n",
    "scaler.fit(df[columns_to_scale])"
   ]
  },
  {
   "cell_type": "code",
   "execution_count": 14,
   "metadata": {},
   "outputs": [],
   "source": [
    "scaled_data = scaler.transform(df[columns_to_scale])\n",
    "df[columns_to_scale] = scaled_data"
   ]
  },
  {
   "cell_type": "code",
   "execution_count": 15,
   "metadata": {},
   "outputs": [
    {
     "data": {
      "text/html": [
       "<div>\n",
       "<style scoped>\n",
       "    .dataframe tbody tr th:only-of-type {\n",
       "        vertical-align: middle;\n",
       "    }\n",
       "\n",
       "    .dataframe tbody tr th {\n",
       "        vertical-align: top;\n",
       "    }\n",
       "\n",
       "    .dataframe thead th {\n",
       "        text-align: right;\n",
       "    }\n",
       "</style>\n",
       "<table border=\"1\" class=\"dataframe\">\n",
       "  <thead>\n",
       "    <tr style=\"text-align: right;\">\n",
       "      <th></th>\n",
       "      <th>Date</th>\n",
       "      <th>open</th>\n",
       "      <th>high</th>\n",
       "      <th>low</th>\n",
       "      <th>close</th>\n",
       "      <th>volume</th>\n",
       "      <th>stoch_k</th>\n",
       "      <th>stoch_k_smooth</th>\n",
       "      <th>stoch_d</th>\n",
       "      <th>ma_5</th>\n",
       "      <th>ma_13</th>\n",
       "      <th>fng_value</th>\n",
       "      <th>fng_classification</th>\n",
       "      <th>tomorrow</th>\n",
       "      <th>target</th>\n",
       "    </tr>\n",
       "  </thead>\n",
       "  <tbody>\n",
       "    <tr>\n",
       "      <th>0</th>\n",
       "      <td>2018-02-01</td>\n",
       "      <td>0.100239</td>\n",
       "      <td>0.099517</td>\n",
       "      <td>0.082488</td>\n",
       "      <td>0.084954</td>\n",
       "      <td>0.020215</td>\n",
       "      <td>0.110984</td>\n",
       "      <td>0.094495</td>\n",
       "      <td>0.256735</td>\n",
       "      <td>0.105726</td>\n",
       "      <td>0.116522</td>\n",
       "      <td>0.277778</td>\n",
       "      <td>1</td>\n",
       "      <td>0.080089</td>\n",
       "      <td>0</td>\n",
       "    </tr>\n",
       "    <tr>\n",
       "      <th>1</th>\n",
       "      <td>2018-02-02</td>\n",
       "      <td>0.084561</td>\n",
       "      <td>0.083248</td>\n",
       "      <td>0.067581</td>\n",
       "      <td>0.080089</td>\n",
       "      <td>0.028167</td>\n",
       "      <td>0.253550</td>\n",
       "      <td>0.170127</td>\n",
       "      <td>0.157328</td>\n",
       "      <td>0.097058</td>\n",
       "      <td>0.111752</td>\n",
       "      <td>0.111111</td>\n",
       "      <td>0</td>\n",
       "      <td>0.085017</td>\n",
       "      <td>1</td>\n",
       "    </tr>\n",
       "    <tr>\n",
       "      <th>2</th>\n",
       "      <td>2018-02-03</td>\n",
       "      <td>0.080407</td>\n",
       "      <td>0.087342</td>\n",
       "      <td>0.074261</td>\n",
       "      <td>0.085017</td>\n",
       "      <td>0.012470</td>\n",
       "      <td>0.392633</td>\n",
       "      <td>0.238144</td>\n",
       "      <td>0.157321</td>\n",
       "      <td>0.090835</td>\n",
       "      <td>0.108908</td>\n",
       "      <td>0.388889</td>\n",
       "      <td>1</td>\n",
       "      <td>0.072162</td>\n",
       "      <td>0</td>\n",
       "    </tr>\n",
       "    <tr>\n",
       "      <th>3</th>\n",
       "      <td>2018-02-04</td>\n",
       "      <td>0.085040</td>\n",
       "      <td>0.085981</td>\n",
       "      <td>0.071026</td>\n",
       "      <td>0.072162</td>\n",
       "      <td>0.011923</td>\n",
       "      <td>0.185880</td>\n",
       "      <td>0.264060</td>\n",
       "      <td>0.215397</td>\n",
       "      <td>0.085470</td>\n",
       "      <td>0.105796</td>\n",
       "      <td>0.211111</td>\n",
       "      <td>0</td>\n",
       "      <td>0.053238</td>\n",
       "      <td>0</td>\n",
       "    </tr>\n",
       "    <tr>\n",
       "      <th>4</th>\n",
       "      <td>2018-02-05</td>\n",
       "      <td>0.072080</td>\n",
       "      <td>0.072217</td>\n",
       "      <td>0.052322</td>\n",
       "      <td>0.053238</td>\n",
       "      <td>0.018278</td>\n",
       "      <td>0.056224</td>\n",
       "      <td>0.195779</td>\n",
       "      <td>0.224183</td>\n",
       "      <td>0.075892</td>\n",
       "      <td>0.101208</td>\n",
       "      <td>0.066667</td>\n",
       "      <td>0</td>\n",
       "      <td>0.064674</td>\n",
       "      <td>1</td>\n",
       "    </tr>\n",
       "    <tr>\n",
       "      <th>...</th>\n",
       "      <td>...</td>\n",
       "      <td>...</td>\n",
       "      <td>...</td>\n",
       "      <td>...</td>\n",
       "      <td>...</td>\n",
       "      <td>...</td>\n",
       "      <td>...</td>\n",
       "      <td>...</td>\n",
       "      <td>...</td>\n",
       "      <td>...</td>\n",
       "      <td>...</td>\n",
       "      <td>...</td>\n",
       "      <td>...</td>\n",
       "      <td>...</td>\n",
       "      <td>...</td>\n",
       "    </tr>\n",
       "    <tr>\n",
       "      <th>2251</th>\n",
       "      <td>2024-04-01</td>\n",
       "      <td>0.975003</td>\n",
       "      <td>0.965832</td>\n",
       "      <td>0.952696</td>\n",
       "      <td>0.951589</td>\n",
       "      <td>0.091798</td>\n",
       "      <td>0.463261</td>\n",
       "      <td>0.572381</td>\n",
       "      <td>0.617831</td>\n",
       "      <td>0.981903</td>\n",
       "      <td>0.990159</td>\n",
       "      <td>0.822222</td>\n",
       "      <td>4</td>\n",
       "      <td>0.890667</td>\n",
       "      <td>0</td>\n",
       "    </tr>\n",
       "    <tr>\n",
       "      <th>2252</th>\n",
       "      <td>2024-04-02</td>\n",
       "      <td>0.951687</td>\n",
       "      <td>0.942651</td>\n",
       "      <td>0.900980</td>\n",
       "      <td>0.890667</td>\n",
       "      <td>0.137286</td>\n",
       "      <td>0.126690</td>\n",
       "      <td>0.485558</td>\n",
       "      <td>0.566194</td>\n",
       "      <td>0.966365</td>\n",
       "      <td>0.987266</td>\n",
       "      <td>0.822222</td>\n",
       "      <td>4</td>\n",
       "      <td>0.898310</td>\n",
       "      <td>1</td>\n",
       "    </tr>\n",
       "    <tr>\n",
       "      <th>2253</th>\n",
       "      <td>2024-04-03</td>\n",
       "      <td>0.890716</td>\n",
       "      <td>0.903004</td>\n",
       "      <td>0.900588</td>\n",
       "      <td>0.898310</td>\n",
       "      <td>0.090691</td>\n",
       "      <td>0.208410</td>\n",
       "      <td>0.252398</td>\n",
       "      <td>0.433917</td>\n",
       "      <td>0.954891</td>\n",
       "      <td>0.987840</td>\n",
       "      <td>0.733333</td>\n",
       "      <td>3</td>\n",
       "      <td>0.934504</td>\n",
       "      <td>1</td>\n",
       "    </tr>\n",
       "    <tr>\n",
       "      <th>2254</th>\n",
       "      <td>2024-04-04</td>\n",
       "      <td>0.898291</td>\n",
       "      <td>0.936732</td>\n",
       "      <td>0.908717</td>\n",
       "      <td>0.934504</td>\n",
       "      <td>0.090551</td>\n",
       "      <td>0.579204</td>\n",
       "      <td>0.292518</td>\n",
       "      <td>0.338063</td>\n",
       "      <td>0.951558</td>\n",
       "      <td>0.993386</td>\n",
       "      <td>0.722222</td>\n",
       "      <td>3</td>\n",
       "      <td>0.924895</td>\n",
       "      <td>0</td>\n",
       "    </tr>\n",
       "    <tr>\n",
       "      <th>2255</th>\n",
       "      <td>2024-04-05</td>\n",
       "      <td>0.934659</td>\n",
       "      <td>0.928708</td>\n",
       "      <td>0.921890</td>\n",
       "      <td>0.924895</td>\n",
       "      <td>0.088565</td>\n",
       "      <td>0.483286</td>\n",
       "      <td>0.415910</td>\n",
       "      <td>0.314208</td>\n",
       "      <td>0.941304</td>\n",
       "      <td>0.997813</td>\n",
       "      <td>0.822222</td>\n",
       "      <td>4</td>\n",
       "      <td>0.923353</td>\n",
       "      <td>0</td>\n",
       "    </tr>\n",
       "  </tbody>\n",
       "</table>\n",
       "<p>2256 rows × 15 columns</p>\n",
       "</div>"
      ],
      "text/plain": [
       "            Date      open      high       low     close    volume   stoch_k  \\\n",
       "0     2018-02-01  0.100239  0.099517  0.082488  0.084954  0.020215  0.110984   \n",
       "1     2018-02-02  0.084561  0.083248  0.067581  0.080089  0.028167  0.253550   \n",
       "2     2018-02-03  0.080407  0.087342  0.074261  0.085017  0.012470  0.392633   \n",
       "3     2018-02-04  0.085040  0.085981  0.071026  0.072162  0.011923  0.185880   \n",
       "4     2018-02-05  0.072080  0.072217  0.052322  0.053238  0.018278  0.056224   \n",
       "...          ...       ...       ...       ...       ...       ...       ...   \n",
       "2251  2024-04-01  0.975003  0.965832  0.952696  0.951589  0.091798  0.463261   \n",
       "2252  2024-04-02  0.951687  0.942651  0.900980  0.890667  0.137286  0.126690   \n",
       "2253  2024-04-03  0.890716  0.903004  0.900588  0.898310  0.090691  0.208410   \n",
       "2254  2024-04-04  0.898291  0.936732  0.908717  0.934504  0.090551  0.579204   \n",
       "2255  2024-04-05  0.934659  0.928708  0.921890  0.924895  0.088565  0.483286   \n",
       "\n",
       "      stoch_k_smooth   stoch_d      ma_5     ma_13   fng_value  \\\n",
       "0           0.094495  0.256735  0.105726  0.116522    0.277778   \n",
       "1           0.170127  0.157328  0.097058  0.111752    0.111111   \n",
       "2           0.238144  0.157321  0.090835  0.108908    0.388889   \n",
       "3           0.264060  0.215397  0.085470  0.105796    0.211111   \n",
       "4           0.195779  0.224183  0.075892  0.101208    0.066667   \n",
       "...              ...       ...       ...       ...         ...   \n",
       "2251        0.572381  0.617831  0.981903  0.990159    0.822222   \n",
       "2252        0.485558  0.566194  0.966365  0.987266    0.822222   \n",
       "2253        0.252398  0.433917  0.954891  0.987840    0.733333   \n",
       "2254        0.292518  0.338063  0.951558  0.993386    0.722222   \n",
       "2255        0.415910  0.314208  0.941304  0.997813    0.822222   \n",
       "\n",
       "      fng_classification  tomorrow  target  \n",
       "0                      1  0.080089       0  \n",
       "1                      0  0.085017       1  \n",
       "2                      1  0.072162       0  \n",
       "3                      0  0.053238       0  \n",
       "4                      0  0.064674       1  \n",
       "...                  ...       ...     ...  \n",
       "2251                   4  0.890667       0  \n",
       "2252                   4  0.898310       1  \n",
       "2253                   3  0.934504       1  \n",
       "2254                   3  0.924895       0  \n",
       "2255                   4  0.923353       0  \n",
       "\n",
       "[2256 rows x 15 columns]"
      ]
     },
     "execution_count": 15,
     "metadata": {},
     "output_type": "execute_result"
    }
   ],
   "source": [
    "df"
   ]
  },
  {
   "cell_type": "markdown",
   "metadata": {},
   "source": [
    "Splitting data into train, valid, and test"
   ]
  },
  {
   "cell_type": "code",
   "execution_count": 16,
   "metadata": {},
   "outputs": [],
   "source": [
    "train_size = int(0.8 * len(df))\n",
    "valid_size = int(0.1 * len(df))\n",
    "train_df = df.iloc[:train_size, :]\n",
    "valid_df = df.iloc[train_size:(train_size + valid_size), :]\n",
    "test_df = df.iloc[(train_size + valid_size):, :]"
   ]
  },
  {
   "cell_type": "markdown",
   "metadata": {},
   "source": [
    "Checking for imbalance"
   ]
  },
  {
   "cell_type": "code",
   "execution_count": 17,
   "metadata": {},
   "outputs": [
    {
     "name": "stdout",
     "output_type": "stream",
     "text": [
      "target\n",
      "1    0.51663\n",
      "0    0.48337\n",
      "Name: proportion, dtype: float64 target\n",
      "0    0.528889\n",
      "1    0.471111\n",
      "Name: proportion, dtype: float64 target\n",
      "1    0.537445\n",
      "0    0.462555\n",
      "Name: proportion, dtype: float64\n"
     ]
    }
   ],
   "source": [
    "print(train_df['target'].value_counts(normalize=True),\n",
    "valid_df['target'].value_counts(normalize=True),\n",
    "test_df['target'].value_counts(normalize=True))"
   ]
  },
  {
   "cell_type": "markdown",
   "metadata": {},
   "source": [
    "Exporting into csv"
   ]
  },
  {
   "cell_type": "code",
   "execution_count": 18,
   "metadata": {},
   "outputs": [],
   "source": [
    "train_df.to_csv(\"../datasets/train_dataset.csv\", index=False)\n",
    "valid_df.to_csv(\"../datasets/valid_dataset.csv\", index=False)\n",
    "test_df.to_csv(\"../datasets/test_dataset.csv\", index=False)"
   ]
  }
 ],
 "metadata": {
  "kernelspec": {
   "display_name": "ml",
   "language": "python",
   "name": "python3"
  },
  "language_info": {
   "codemirror_mode": {
    "name": "ipython",
    "version": 3
   },
   "file_extension": ".py",
   "mimetype": "text/x-python",
   "name": "python",
   "nbconvert_exporter": "python",
   "pygments_lexer": "ipython3",
   "version": "3.11.7"
  }
 },
 "nbformat": 4,
 "nbformat_minor": 2
}
